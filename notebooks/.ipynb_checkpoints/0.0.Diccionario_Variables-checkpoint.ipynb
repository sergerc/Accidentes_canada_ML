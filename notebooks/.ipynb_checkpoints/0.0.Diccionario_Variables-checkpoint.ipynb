{
 "cells": [
  {
   "attachments": {
    "Cuneflogo.png": {
     "image/png": "[encoded data removed]"
    }
   },
   "cell_type": "markdown",
   "id": "213641b1",
   "metadata": {},
   "source": [
    "![Cuneflogo.png](attachment:Cuneflogo.png)"
   ]
  },
  {
   "cell_type": "markdown",
   "id": "6682d8b8",
   "metadata": {},
   "source": [
    "Realizado por:\n",
    "\n",
    "***Sergio Ranz Casado***  \n",
    "***Marcos Medina Cogolludo***\n",
    "\n",
    "---\n",
    "\n",
    "0.0.Diccionario_Variables\n",
    "---\n"
   ]
  },
  {
   "cell_type": "markdown",
   "id": "2fdf76cd",
   "metadata": {},
   "source": [
    "###  Cargamos las librerías"
   ]
  },
  {
   "cell_type": "code",
   "execution_count": 1,
   "id": "66170fa5",
   "metadata": {},
   "outputs": [],
   "source": [
    "import pandas as pd\n",
    "import pyarrow.csv as pv\n",
    "import pyarrow.parquet as pq"
   ]
  },
  {
   "cell_type": "markdown",
   "id": "678ada05",
   "metadata": {},
   "source": [
    "### Cargamos la base de datos"
   ]
  },
  {
   "cell_type": "code",
   "execution_count": 2,
   "id": "8c80d535",
   "metadata": {},
   "outputs": [
    {
     "data": {
      "text/html": [
       "<div>\n",
       "<style scoped>\n",
       "    .dataframe tbody tr th:only-of-type {\n",
       "        vertical-align: middle;\n",
       "    }\n",
       "\n",
       "    .dataframe tbody tr th {\n",
       "        vertical-align: top;\n",
       "    }\n",
       "\n",
       "    .dataframe thead th {\n",
       "        text-align: right;\n",
       "    }\n",
       "</style>\n",
       "<table border=\"1\" class=\"dataframe\">\n",
       "  <thead>\n",
       "    <tr style=\"text-align: right;\">\n",
       "      <th></th>\n",
       "      <th>C_YEAR</th>\n",
       "      <th>C_MNTH</th>\n",
       "      <th>C_WDAY</th>\n",
       "      <th>C_HOUR</th>\n",
       "      <th>C_SEV</th>\n",
       "      <th>C_VEHS</th>\n",
       "      <th>C_CONF</th>\n",
       "      <th>C_RCFG</th>\n",
       "      <th>C_WTHR</th>\n",
       "      <th>C_RSUR</th>\n",
       "      <th>...</th>\n",
       "      <th>V_ID</th>\n",
       "      <th>V_TYPE</th>\n",
       "      <th>V_YEAR</th>\n",
       "      <th>P_ID</th>\n",
       "      <th>P_SEX</th>\n",
       "      <th>P_AGE</th>\n",
       "      <th>P_PSN</th>\n",
       "      <th>P_ISEV</th>\n",
       "      <th>P_SAFE</th>\n",
       "      <th>P_USER</th>\n",
       "    </tr>\n",
       "  </thead>\n",
       "  <tbody>\n",
       "    <tr>\n",
       "      <th>0</th>\n",
       "      <td>1999</td>\n",
       "      <td>01</td>\n",
       "      <td>1</td>\n",
       "      <td>20</td>\n",
       "      <td>2</td>\n",
       "      <td>02</td>\n",
       "      <td>34</td>\n",
       "      <td>UU</td>\n",
       "      <td>1</td>\n",
       "      <td>5</td>\n",
       "      <td>...</td>\n",
       "      <td>01</td>\n",
       "      <td>06</td>\n",
       "      <td>1990</td>\n",
       "      <td>01</td>\n",
       "      <td>M</td>\n",
       "      <td>41</td>\n",
       "      <td>11</td>\n",
       "      <td>1</td>\n",
       "      <td>UU</td>\n",
       "      <td>1</td>\n",
       "    </tr>\n",
       "    <tr>\n",
       "      <th>1</th>\n",
       "      <td>1999</td>\n",
       "      <td>01</td>\n",
       "      <td>1</td>\n",
       "      <td>20</td>\n",
       "      <td>2</td>\n",
       "      <td>02</td>\n",
       "      <td>34</td>\n",
       "      <td>UU</td>\n",
       "      <td>1</td>\n",
       "      <td>5</td>\n",
       "      <td>...</td>\n",
       "      <td>02</td>\n",
       "      <td>01</td>\n",
       "      <td>1987</td>\n",
       "      <td>01</td>\n",
       "      <td>M</td>\n",
       "      <td>19</td>\n",
       "      <td>11</td>\n",
       "      <td>1</td>\n",
       "      <td>UU</td>\n",
       "      <td>1</td>\n",
       "    </tr>\n",
       "    <tr>\n",
       "      <th>2</th>\n",
       "      <td>1999</td>\n",
       "      <td>01</td>\n",
       "      <td>1</td>\n",
       "      <td>20</td>\n",
       "      <td>2</td>\n",
       "      <td>02</td>\n",
       "      <td>34</td>\n",
       "      <td>UU</td>\n",
       "      <td>1</td>\n",
       "      <td>5</td>\n",
       "      <td>...</td>\n",
       "      <td>02</td>\n",
       "      <td>01</td>\n",
       "      <td>1987</td>\n",
       "      <td>02</td>\n",
       "      <td>F</td>\n",
       "      <td>20</td>\n",
       "      <td>13</td>\n",
       "      <td>2</td>\n",
       "      <td>02</td>\n",
       "      <td>2</td>\n",
       "    </tr>\n",
       "    <tr>\n",
       "      <th>3</th>\n",
       "      <td>1999</td>\n",
       "      <td>01</td>\n",
       "      <td>1</td>\n",
       "      <td>08</td>\n",
       "      <td>2</td>\n",
       "      <td>01</td>\n",
       "      <td>01</td>\n",
       "      <td>UU</td>\n",
       "      <td>5</td>\n",
       "      <td>3</td>\n",
       "      <td>...</td>\n",
       "      <td>01</td>\n",
       "      <td>01</td>\n",
       "      <td>1986</td>\n",
       "      <td>01</td>\n",
       "      <td>M</td>\n",
       "      <td>46</td>\n",
       "      <td>11</td>\n",
       "      <td>1</td>\n",
       "      <td>UU</td>\n",
       "      <td>1</td>\n",
       "    </tr>\n",
       "    <tr>\n",
       "      <th>4</th>\n",
       "      <td>1999</td>\n",
       "      <td>01</td>\n",
       "      <td>1</td>\n",
       "      <td>08</td>\n",
       "      <td>2</td>\n",
       "      <td>01</td>\n",
       "      <td>01</td>\n",
       "      <td>UU</td>\n",
       "      <td>5</td>\n",
       "      <td>3</td>\n",
       "      <td>...</td>\n",
       "      <td>99</td>\n",
       "      <td>NN</td>\n",
       "      <td>NNNN</td>\n",
       "      <td>01</td>\n",
       "      <td>M</td>\n",
       "      <td>05</td>\n",
       "      <td>99</td>\n",
       "      <td>2</td>\n",
       "      <td>UU</td>\n",
       "      <td>3</td>\n",
       "    </tr>\n",
       "    <tr>\n",
       "      <th>...</th>\n",
       "      <td>...</td>\n",
       "      <td>...</td>\n",
       "      <td>...</td>\n",
       "      <td>...</td>\n",
       "      <td>...</td>\n",
       "      <td>...</td>\n",
       "      <td>...</td>\n",
       "      <td>...</td>\n",
       "      <td>...</td>\n",
       "      <td>...</td>\n",
       "      <td>...</td>\n",
       "      <td>...</td>\n",
       "      <td>...</td>\n",
       "      <td>...</td>\n",
       "      <td>...</td>\n",
       "      <td>...</td>\n",
       "      <td>...</td>\n",
       "      <td>...</td>\n",
       "      <td>...</td>\n",
       "      <td>...</td>\n",
       "      <td>...</td>\n",
       "    </tr>\n",
       "    <tr>\n",
       "      <th>5860400</th>\n",
       "      <td>2014</td>\n",
       "      <td>UU</td>\n",
       "      <td>U</td>\n",
       "      <td>UU</td>\n",
       "      <td>2</td>\n",
       "      <td>UU</td>\n",
       "      <td>UU</td>\n",
       "      <td>01</td>\n",
       "      <td>U</td>\n",
       "      <td>U</td>\n",
       "      <td>...</td>\n",
       "      <td>13</td>\n",
       "      <td>07</td>\n",
       "      <td>UUUU</td>\n",
       "      <td>01</td>\n",
       "      <td>M</td>\n",
       "      <td>24</td>\n",
       "      <td>11</td>\n",
       "      <td>1</td>\n",
       "      <td>NN</td>\n",
       "      <td>1</td>\n",
       "    </tr>\n",
       "    <tr>\n",
       "      <th>5860401</th>\n",
       "      <td>2014</td>\n",
       "      <td>UU</td>\n",
       "      <td>U</td>\n",
       "      <td>23</td>\n",
       "      <td>2</td>\n",
       "      <td>01</td>\n",
       "      <td>06</td>\n",
       "      <td>05</td>\n",
       "      <td>1</td>\n",
       "      <td>1</td>\n",
       "      <td>...</td>\n",
       "      <td>01</td>\n",
       "      <td>14</td>\n",
       "      <td>2006</td>\n",
       "      <td>01</td>\n",
       "      <td>M</td>\n",
       "      <td>29</td>\n",
       "      <td>96</td>\n",
       "      <td>2</td>\n",
       "      <td>09</td>\n",
       "      <td>5</td>\n",
       "    </tr>\n",
       "    <tr>\n",
       "      <th>5860402</th>\n",
       "      <td>2014</td>\n",
       "      <td>UU</td>\n",
       "      <td>U</td>\n",
       "      <td>14</td>\n",
       "      <td>2</td>\n",
       "      <td>01</td>\n",
       "      <td>02</td>\n",
       "      <td>01</td>\n",
       "      <td>1</td>\n",
       "      <td>5</td>\n",
       "      <td>...</td>\n",
       "      <td>01</td>\n",
       "      <td>01</td>\n",
       "      <td>2006</td>\n",
       "      <td>01</td>\n",
       "      <td>F</td>\n",
       "      <td>UU</td>\n",
       "      <td>11</td>\n",
       "      <td>2</td>\n",
       "      <td>01</td>\n",
       "      <td>1</td>\n",
       "    </tr>\n",
       "    <tr>\n",
       "      <th>5860403</th>\n",
       "      <td>2014</td>\n",
       "      <td>UU</td>\n",
       "      <td>U</td>\n",
       "      <td>22</td>\n",
       "      <td>1</td>\n",
       "      <td>01</td>\n",
       "      <td>06</td>\n",
       "      <td>01</td>\n",
       "      <td>2</td>\n",
       "      <td>4</td>\n",
       "      <td>...</td>\n",
       "      <td>01</td>\n",
       "      <td>22</td>\n",
       "      <td>UUUU</td>\n",
       "      <td>01</td>\n",
       "      <td>M</td>\n",
       "      <td>67</td>\n",
       "      <td>12</td>\n",
       "      <td>3</td>\n",
       "      <td>01</td>\n",
       "      <td>U</td>\n",
       "    </tr>\n",
       "    <tr>\n",
       "      <th>5860404</th>\n",
       "      <td>2014</td>\n",
       "      <td>UU</td>\n",
       "      <td>U</td>\n",
       "      <td>22</td>\n",
       "      <td>1</td>\n",
       "      <td>01</td>\n",
       "      <td>06</td>\n",
       "      <td>01</td>\n",
       "      <td>2</td>\n",
       "      <td>4</td>\n",
       "      <td>...</td>\n",
       "      <td>01</td>\n",
       "      <td>22</td>\n",
       "      <td>UUUU</td>\n",
       "      <td>02</td>\n",
       "      <td>M</td>\n",
       "      <td>10</td>\n",
       "      <td>98</td>\n",
       "      <td>1</td>\n",
       "      <td>01</td>\n",
       "      <td>U</td>\n",
       "    </tr>\n",
       "  </tbody>\n",
       "</table>\n",
       "<p>5860405 rows × 22 columns</p>\n",
       "</div>"
      ],
      "text/plain": [
       "         C_YEAR C_MNTH C_WDAY C_HOUR  C_SEV C_VEHS C_CONF C_RCFG C_WTHR  \\\n",
       "0          1999     01      1     20      2     02     34     UU      1   \n",
       "1          1999     01      1     20      2     02     34     UU      1   \n",
       "2          1999     01      1     20      2     02     34     UU      1   \n",
       "3          1999     01      1     08      2     01     01     UU      5   \n",
       "4          1999     01      1     08      2     01     01     UU      5   \n",
       "...         ...    ...    ...    ...    ...    ...    ...    ...    ...   \n",
       "5860400    2014     UU      U     UU      2     UU     UU     01      U   \n",
       "5860401    2014     UU      U     23      2     01     06     05      1   \n",
       "5860402    2014     UU      U     14      2     01     02     01      1   \n",
       "5860403    2014     UU      U     22      1     01     06     01      2   \n",
       "5860404    2014     UU      U     22      1     01     06     01      2   \n",
       "\n",
       "        C_RSUR  ... V_ID V_TYPE V_YEAR P_ID P_SEX P_AGE P_PSN P_ISEV P_SAFE  \\\n",
       "0            5  ...   01     06   1990   01     M    41    11      1     UU   \n",
       "1            5  ...   02     01   1987   01     M    19    11      1     UU   \n",
       "2            5  ...   02     01   1987   02     F    20    13      2     02   \n",
       "3            3  ...   01     01   1986   01     M    46    11      1     UU   \n",
       "4            3  ...   99     NN   NNNN   01     M    05    99      2     UU   \n",
       "...        ...  ...  ...    ...    ...  ...   ...   ...   ...    ...    ...   \n",
       "5860400      U  ...   13     07   UUUU   01     M    24    11      1     NN   \n",
       "5860401      1  ...   01     14   2006   01     M    29    96      2     09   \n",
       "5860402      5  ...   01     01   2006   01     F    UU    11      2     01   \n",
       "5860403      4  ...   01     22   UUUU   01     M    67    12      3     01   \n",
       "5860404      4  ...   01     22   UUUU   02     M    10    98      1     01   \n",
       "\n",
       "        P_USER  \n",
       "0            1  \n",
       "1            1  \n",
       "2            2  \n",
       "3            1  \n",
       "4            3  \n",
       "...        ...  \n",
       "5860400      1  \n",
       "5860401      5  \n",
       "5860402      1  \n",
       "5860403      U  \n",
       "5860404      U  \n",
       "\n",
       "[5860405 rows x 22 columns]"
      ]
     },
     "execution_count": 2,
     "metadata": {},
     "output_type": "execute_result"
    }
   ],
   "source": [
    "df_acc = pd.read_parquet('NCDB_1999_to_2014.parquet')\n",
    "df_acc"
   ]
  },
  {
   "cell_type": "code",
   "execution_count": 34,
   "id": "2f4dba6c",
   "metadata": {},
   "outputs": [
    {
     "data": {
      "text/html": [
       "<div>\n",
       "<style scoped>\n",
       "    .dataframe tbody tr th:only-of-type {\n",
       "        vertical-align: middle;\n",
       "    }\n",
       "\n",
       "    .dataframe tbody tr th {\n",
       "        vertical-align: top;\n",
       "    }\n",
       "\n",
       "    .dataframe thead th {\n",
       "        text-align: right;\n",
       "    }\n",
       "</style>\n",
       "<table border=\"1\" class=\"dataframe\">\n",
       "  <thead>\n",
       "    <tr style=\"text-align: right;\">\n",
       "      <th></th>\n",
       "      <th>c_year</th>\n",
       "      <th>c_mnth</th>\n",
       "      <th>c_wday</th>\n",
       "      <th>c_hour</th>\n",
       "      <th>c_sev</th>\n",
       "      <th>c_vehs</th>\n",
       "      <th>c_conf</th>\n",
       "      <th>c_rcfg</th>\n",
       "      <th>c_wthr</th>\n",
       "      <th>c_rsur</th>\n",
       "      <th>...</th>\n",
       "      <th>v_id</th>\n",
       "      <th>v_type</th>\n",
       "      <th>v_year</th>\n",
       "      <th>p_id</th>\n",
       "      <th>p_sex</th>\n",
       "      <th>p_age</th>\n",
       "      <th>p_psn</th>\n",
       "      <th>p_isev</th>\n",
       "      <th>p_safe</th>\n",
       "      <th>p_user</th>\n",
       "    </tr>\n",
       "  </thead>\n",
       "  <tbody>\n",
       "    <tr>\n",
       "      <th>0</th>\n",
       "      <td>1999</td>\n",
       "      <td>01</td>\n",
       "      <td>1</td>\n",
       "      <td>20</td>\n",
       "      <td>2</td>\n",
       "      <td>02</td>\n",
       "      <td>34</td>\n",
       "      <td>UU</td>\n",
       "      <td>1</td>\n",
       "      <td>5</td>\n",
       "      <td>...</td>\n",
       "      <td>01</td>\n",
       "      <td>06</td>\n",
       "      <td>1990</td>\n",
       "      <td>01</td>\n",
       "      <td>M</td>\n",
       "      <td>41</td>\n",
       "      <td>11</td>\n",
       "      <td>1</td>\n",
       "      <td>UU</td>\n",
       "      <td>1</td>\n",
       "    </tr>\n",
       "    <tr>\n",
       "      <th>1</th>\n",
       "      <td>1999</td>\n",
       "      <td>01</td>\n",
       "      <td>1</td>\n",
       "      <td>20</td>\n",
       "      <td>2</td>\n",
       "      <td>02</td>\n",
       "      <td>34</td>\n",
       "      <td>UU</td>\n",
       "      <td>1</td>\n",
       "      <td>5</td>\n",
       "      <td>...</td>\n",
       "      <td>02</td>\n",
       "      <td>01</td>\n",
       "      <td>1987</td>\n",
       "      <td>01</td>\n",
       "      <td>M</td>\n",
       "      <td>19</td>\n",
       "      <td>11</td>\n",
       "      <td>1</td>\n",
       "      <td>UU</td>\n",
       "      <td>1</td>\n",
       "    </tr>\n",
       "    <tr>\n",
       "      <th>2</th>\n",
       "      <td>1999</td>\n",
       "      <td>01</td>\n",
       "      <td>1</td>\n",
       "      <td>20</td>\n",
       "      <td>2</td>\n",
       "      <td>02</td>\n",
       "      <td>34</td>\n",
       "      <td>UU</td>\n",
       "      <td>1</td>\n",
       "      <td>5</td>\n",
       "      <td>...</td>\n",
       "      <td>02</td>\n",
       "      <td>01</td>\n",
       "      <td>1987</td>\n",
       "      <td>02</td>\n",
       "      <td>F</td>\n",
       "      <td>20</td>\n",
       "      <td>13</td>\n",
       "      <td>2</td>\n",
       "      <td>02</td>\n",
       "      <td>2</td>\n",
       "    </tr>\n",
       "    <tr>\n",
       "      <th>3</th>\n",
       "      <td>1999</td>\n",
       "      <td>01</td>\n",
       "      <td>1</td>\n",
       "      <td>08</td>\n",
       "      <td>2</td>\n",
       "      <td>01</td>\n",
       "      <td>01</td>\n",
       "      <td>UU</td>\n",
       "      <td>5</td>\n",
       "      <td>3</td>\n",
       "      <td>...</td>\n",
       "      <td>01</td>\n",
       "      <td>01</td>\n",
       "      <td>1986</td>\n",
       "      <td>01</td>\n",
       "      <td>M</td>\n",
       "      <td>46</td>\n",
       "      <td>11</td>\n",
       "      <td>1</td>\n",
       "      <td>UU</td>\n",
       "      <td>1</td>\n",
       "    </tr>\n",
       "    <tr>\n",
       "      <th>4</th>\n",
       "      <td>1999</td>\n",
       "      <td>01</td>\n",
       "      <td>1</td>\n",
       "      <td>08</td>\n",
       "      <td>2</td>\n",
       "      <td>01</td>\n",
       "      <td>01</td>\n",
       "      <td>UU</td>\n",
       "      <td>5</td>\n",
       "      <td>3</td>\n",
       "      <td>...</td>\n",
       "      <td>99</td>\n",
       "      <td>NN</td>\n",
       "      <td>NNNN</td>\n",
       "      <td>01</td>\n",
       "      <td>M</td>\n",
       "      <td>05</td>\n",
       "      <td>99</td>\n",
       "      <td>2</td>\n",
       "      <td>UU</td>\n",
       "      <td>3</td>\n",
       "    </tr>\n",
       "    <tr>\n",
       "      <th>...</th>\n",
       "      <td>...</td>\n",
       "      <td>...</td>\n",
       "      <td>...</td>\n",
       "      <td>...</td>\n",
       "      <td>...</td>\n",
       "      <td>...</td>\n",
       "      <td>...</td>\n",
       "      <td>...</td>\n",
       "      <td>...</td>\n",
       "      <td>...</td>\n",
       "      <td>...</td>\n",
       "      <td>...</td>\n",
       "      <td>...</td>\n",
       "      <td>...</td>\n",
       "      <td>...</td>\n",
       "      <td>...</td>\n",
       "      <td>...</td>\n",
       "      <td>...</td>\n",
       "      <td>...</td>\n",
       "      <td>...</td>\n",
       "      <td>...</td>\n",
       "    </tr>\n",
       "    <tr>\n",
       "      <th>5860400</th>\n",
       "      <td>2014</td>\n",
       "      <td>UU</td>\n",
       "      <td>U</td>\n",
       "      <td>UU</td>\n",
       "      <td>2</td>\n",
       "      <td>UU</td>\n",
       "      <td>UU</td>\n",
       "      <td>01</td>\n",
       "      <td>U</td>\n",
       "      <td>U</td>\n",
       "      <td>...</td>\n",
       "      <td>13</td>\n",
       "      <td>07</td>\n",
       "      <td>UUUU</td>\n",
       "      <td>01</td>\n",
       "      <td>M</td>\n",
       "      <td>24</td>\n",
       "      <td>11</td>\n",
       "      <td>1</td>\n",
       "      <td>NN</td>\n",
       "      <td>1</td>\n",
       "    </tr>\n",
       "    <tr>\n",
       "      <th>5860401</th>\n",
       "      <td>2014</td>\n",
       "      <td>UU</td>\n",
       "      <td>U</td>\n",
       "      <td>23</td>\n",
       "      <td>2</td>\n",
       "      <td>01</td>\n",
       "      <td>06</td>\n",
       "      <td>05</td>\n",
       "      <td>1</td>\n",
       "      <td>1</td>\n",
       "      <td>...</td>\n",
       "      <td>01</td>\n",
       "      <td>14</td>\n",
       "      <td>2006</td>\n",
       "      <td>01</td>\n",
       "      <td>M</td>\n",
       "      <td>29</td>\n",
       "      <td>96</td>\n",
       "      <td>2</td>\n",
       "      <td>09</td>\n",
       "      <td>5</td>\n",
       "    </tr>\n",
       "    <tr>\n",
       "      <th>5860402</th>\n",
       "      <td>2014</td>\n",
       "      <td>UU</td>\n",
       "      <td>U</td>\n",
       "      <td>14</td>\n",
       "      <td>2</td>\n",
       "      <td>01</td>\n",
       "      <td>02</td>\n",
       "      <td>01</td>\n",
       "      <td>1</td>\n",
       "      <td>5</td>\n",
       "      <td>...</td>\n",
       "      <td>01</td>\n",
       "      <td>01</td>\n",
       "      <td>2006</td>\n",
       "      <td>01</td>\n",
       "      <td>F</td>\n",
       "      <td>UU</td>\n",
       "      <td>11</td>\n",
       "      <td>2</td>\n",
       "      <td>01</td>\n",
       "      <td>1</td>\n",
       "    </tr>\n",
       "    <tr>\n",
       "      <th>5860403</th>\n",
       "      <td>2014</td>\n",
       "      <td>UU</td>\n",
       "      <td>U</td>\n",
       "      <td>22</td>\n",
       "      <td>1</td>\n",
       "      <td>01</td>\n",
       "      <td>06</td>\n",
       "      <td>01</td>\n",
       "      <td>2</td>\n",
       "      <td>4</td>\n",
       "      <td>...</td>\n",
       "      <td>01</td>\n",
       "      <td>22</td>\n",
       "      <td>UUUU</td>\n",
       "      <td>01</td>\n",
       "      <td>M</td>\n",
       "      <td>67</td>\n",
       "      <td>12</td>\n",
       "      <td>3</td>\n",
       "      <td>01</td>\n",
       "      <td>U</td>\n",
       "    </tr>\n",
       "    <tr>\n",
       "      <th>5860404</th>\n",
       "      <td>2014</td>\n",
       "      <td>UU</td>\n",
       "      <td>U</td>\n",
       "      <td>22</td>\n",
       "      <td>1</td>\n",
       "      <td>01</td>\n",
       "      <td>06</td>\n",
       "      <td>01</td>\n",
       "      <td>2</td>\n",
       "      <td>4</td>\n",
       "      <td>...</td>\n",
       "      <td>01</td>\n",
       "      <td>22</td>\n",
       "      <td>UUUU</td>\n",
       "      <td>02</td>\n",
       "      <td>M</td>\n",
       "      <td>10</td>\n",
       "      <td>98</td>\n",
       "      <td>1</td>\n",
       "      <td>01</td>\n",
       "      <td>U</td>\n",
       "    </tr>\n",
       "  </tbody>\n",
       "</table>\n",
       "<p>5860405 rows × 22 columns</p>\n",
       "</div>"
      ],
      "text/plain": [
       "         c_year c_mnth c_wday c_hour  c_sev c_vehs c_conf c_rcfg c_wthr  \\\n",
       "0          1999     01      1     20      2     02     34     UU      1   \n",
       "1          1999     01      1     20      2     02     34     UU      1   \n",
       "2          1999     01      1     20      2     02     34     UU      1   \n",
       "3          1999     01      1     08      2     01     01     UU      5   \n",
       "4          1999     01      1     08      2     01     01     UU      5   \n",
       "...         ...    ...    ...    ...    ...    ...    ...    ...    ...   \n",
       "5860400    2014     UU      U     UU      2     UU     UU     01      U   \n",
       "5860401    2014     UU      U     23      2     01     06     05      1   \n",
       "5860402    2014     UU      U     14      2     01     02     01      1   \n",
       "5860403    2014     UU      U     22      1     01     06     01      2   \n",
       "5860404    2014     UU      U     22      1     01     06     01      2   \n",
       "\n",
       "        c_rsur  ... v_id v_type v_year p_id p_sex p_age p_psn p_isev p_safe  \\\n",
       "0            5  ...   01     06   1990   01     M    41    11      1     UU   \n",
       "1            5  ...   02     01   1987   01     M    19    11      1     UU   \n",
       "2            5  ...   02     01   1987   02     F    20    13      2     02   \n",
       "3            3  ...   01     01   1986   01     M    46    11      1     UU   \n",
       "4            3  ...   99     NN   NNNN   01     M    05    99      2     UU   \n",
       "...        ...  ...  ...    ...    ...  ...   ...   ...   ...    ...    ...   \n",
       "5860400      U  ...   13     07   UUUU   01     M    24    11      1     NN   \n",
       "5860401      1  ...   01     14   2006   01     M    29    96      2     09   \n",
       "5860402      5  ...   01     01   2006   01     F    UU    11      2     01   \n",
       "5860403      4  ...   01     22   UUUU   01     M    67    12      3     01   \n",
       "5860404      4  ...   01     22   UUUU   02     M    10    98      1     01   \n",
       "\n",
       "        p_user  \n",
       "0            1  \n",
       "1            1  \n",
       "2            2  \n",
       "3            1  \n",
       "4            3  \n",
       "...        ...  \n",
       "5860400      1  \n",
       "5860401      5  \n",
       "5860402      1  \n",
       "5860403      U  \n",
       "5860404      U  \n",
       "\n",
       "[5860405 rows x 22 columns]"
      ]
     },
     "execution_count": 34,
     "metadata": {},
     "output_type": "execute_result"
    }
   ],
   "source": [
    "df_acc.columns = df_acc.columns.map(lambda x: x[:].lower())\n",
    "df_acc"
   ]
  },
  {
   "cell_type": "markdown",
   "id": "fa99583f",
   "metadata": {},
   "source": [
    "### Vemos los tipos de variables que disponemos"
   ]
  },
  {
   "cell_type": "code",
   "execution_count": 4,
   "id": "f0f9f345",
   "metadata": {},
   "outputs": [
    {
     "data": {
      "text/plain": [
       "c_year     int64\n",
       "c_mnth    object\n",
       "c_wday    object\n",
       "c_hour    object\n",
       "c_sev      int64\n",
       "c_vehs    object\n",
       "c_conf    object\n",
       "c_rcfg    object\n",
       "c_wthr    object\n",
       "c_rsur    object\n",
       "c_raln    object\n",
       "c_traf    object\n",
       "v_id      object\n",
       "v_type    object\n",
       "v_year    object\n",
       "p_id      object\n",
       "p_sex     object\n",
       "p_age     object\n",
       "p_psn     object\n",
       "p_isev    object\n",
       "p_safe    object\n",
       "p_user    object\n",
       "dtype: object"
      ]
     },
     "execution_count": 4,
     "metadata": {},
     "output_type": "execute_result"
    }
   ],
   "source": [
    "df_acc.dtypes"
   ]
  },
  {
   "cell_type": "markdown",
   "id": "b537c1e5",
   "metadata": {},
   "source": [
    "### VARIABLE OBJETO C_SEV"
   ]
  },
  {
   "cell_type": "markdown",
   "id": "2c89c964",
   "metadata": {},
   "source": [
    "Nos indica la severidad de la colisión, en este caso:\n",
    "\n",
    "1 - Muerte\n",
    "\n",
    "2 - Colisión que produce una herida no mortal"
   ]
  },
  {
   "cell_type": "code",
   "execution_count": 5,
   "id": "d6e879f9",
   "metadata": {},
   "outputs": [
    {
     "data": {
      "text/plain": [
       "c_sev\n",
       "2        5761772\n",
       "1          98633\n",
       "dtype: int64"
      ]
     },
     "execution_count": 5,
     "metadata": {},
     "output_type": "execute_result"
    }
   ],
   "source": [
    "df_acc[[\"c_sev\"]].value_counts()"
   ]
  },
  {
   "cell_type": "markdown",
   "id": "02943ae2",
   "metadata": {},
   "source": [
    "### OBSERVAMOS LA COMPOSICIÓN DE LAS VARIABLES"
   ]
  },
  {
   "cell_type": "markdown",
   "id": "e79d8da1",
   "metadata": {},
   "source": [
    "### c_year"
   ]
  },
  {
   "cell_type": "markdown",
   "id": "6b7d95ca",
   "metadata": {},
   "source": [
    "Contiene los años de los accidentes:\n",
    "\n",
    "1900-2014 "
   ]
  },
  {
   "cell_type": "code",
   "execution_count": 6,
   "id": "81688232",
   "metadata": {},
   "outputs": [
    {
     "data": {
      "text/plain": [
       "c_year\n",
       "2000      422075\n",
       "2002      420008\n",
       "1999      413509\n",
       "2001      409389\n",
       "2003      407036\n",
       "2004      389050\n",
       "2005      386470\n",
       "2006      378523\n",
       "2007      368507\n",
       "2008      338268\n",
       "2010      334555\n",
       "2009      330771\n",
       "2011      325153\n",
       "2012      322421\n",
       "2013      317058\n",
       "2014      297612\n",
       "dtype: int64"
      ]
     },
     "execution_count": 6,
     "metadata": {},
     "output_type": "execute_result"
    }
   ],
   "source": [
    "df_acc[[\"c_year\"]].value_counts()"
   ]
  },
  {
   "cell_type": "markdown",
   "id": "f5033def",
   "metadata": {},
   "source": [
    "### c_mnth"
   ]
  },
  {
   "cell_type": "markdown",
   "id": "1ad063bd",
   "metadata": {},
   "source": [
    "Indica el mes del accidente, existe un valor UU que es el valor desconocido.\n",
    "\n",
    "01 - 12 De enero a diciembre\n",
    "\n",
    "UU - Desconocido\n",
    "\n",
    "XX - No dado por la jurisdicción"
   ]
  },
  {
   "cell_type": "code",
   "execution_count": 7,
   "id": "5b9a58fc",
   "metadata": {},
   "outputs": [
    {
     "data": {
      "text/plain": [
       "c_mnth\n",
       "08        547045\n",
       "07        537693\n",
       "12        525748\n",
       "06        520010\n",
       "10        515911\n",
       "09        512790\n",
       "01        499874\n",
       "11        499080\n",
       "05        468235\n",
       "02        423287\n",
       "03        417814\n",
       "04        392533\n",
       "UU           385\n",
       "dtype: int64"
      ]
     },
     "execution_count": 7,
     "metadata": {},
     "output_type": "execute_result"
    }
   ],
   "source": [
    "df_acc[[\"c_mnth\"]].value_counts()"
   ]
  },
  {
   "cell_type": "markdown",
   "id": "3afa6720",
   "metadata": {},
   "source": [
    "### c_wday"
   ]
  },
  {
   "cell_type": "markdown",
   "id": "e0f8d390",
   "metadata": {},
   "source": [
    "Días de la semana:\n",
    "\n",
    "1 - 7 De lunes a domingo\n",
    "\n",
    "U - Desconocido\n",
    "\n",
    "X - No dado por la jurisdicción"
   ]
  },
  {
   "cell_type": "code",
   "execution_count": 8,
   "id": "ec36e6b1",
   "metadata": {},
   "outputs": [
    {
     "data": {
      "text/plain": [
       "c_wday\n",
       "5         999725\n",
       "4         869653\n",
       "6         867188\n",
       "3         825560\n",
       "2         816265\n",
       "1         776012\n",
       "7         704679\n",
       "U           1323\n",
       "dtype: int64"
      ]
     },
     "execution_count": 8,
     "metadata": {},
     "output_type": "execute_result"
    }
   ],
   "source": [
    "df_acc[[\"c_wday\"]].value_counts()"
   ]
  },
  {
   "cell_type": "markdown",
   "id": "5dbb2876",
   "metadata": {},
   "source": [
    "### c_hour"
   ]
  },
  {
   "cell_type": "markdown",
   "id": "9079f9a6",
   "metadata": {},
   "source": [
    "Hora del accidente:\n",
    "\n",
    "00 - 23 Horas\n",
    "\n",
    "UU - Desconocido\n",
    "\n",
    "XX - No dado por la jurisdicción "
   ]
  },
  {
   "cell_type": "code",
   "execution_count": 9,
   "id": "9ebbc0cf",
   "metadata": {},
   "outputs": [
    {
     "data": {
      "text/plain": [
       "c_hour\n",
       "16        519601\n",
       "17        500203\n",
       "15        492742\n",
       "14        397342\n",
       "18        375902\n",
       "12        368278\n",
       "13        367315\n",
       "08        302834\n",
       "11        301916\n",
       "19        281863\n",
       "10        248984\n",
       "09        227626\n",
       "20        217277\n",
       "07        207965\n",
       "21        204317\n",
       "22        164878\n",
       "23        127698\n",
       "06        106086\n",
       "00         88481\n",
       "02         77500\n",
       "01         73383\n",
       "03         64036\n",
       "UU         59409\n",
       "05         44952\n",
       "04         39817\n",
       "dtype: int64"
      ]
     },
     "execution_count": 9,
     "metadata": {},
     "output_type": "execute_result"
    }
   ],
   "source": [
    "df_acc[[\"c_hour\"]].value_counts()"
   ]
  },
  {
   "cell_type": "markdown",
   "id": "f054cdf6",
   "metadata": {},
   "source": [
    "### c_vehs"
   ]
  },
  {
   "cell_type": "markdown",
   "id": "5bd1b92a",
   "metadata": {},
   "source": [
    "01 - 98 Vehículos envueltos\n",
    "\n",
    "99 - 99 o más vehículos envueltos\n",
    "\n",
    "UU - Desconocido\n",
    "\n",
    "XX - No dado por la jurisdicción"
   ]
  },
  {
   "cell_type": "code",
   "execution_count": 10,
   "id": "72e79c5d",
   "metadata": {},
   "outputs": [
    {
     "data": {
      "text/plain": [
       "c_vehs\n",
       "02        3612440\n",
       "01        1248443\n",
       "03         739470\n",
       "04         183036\n",
       "05          44077\n",
       "06          14389\n",
       "07           5681\n",
       "08           2670\n",
       "09           1833\n",
       "10           1193\n",
       "11            861\n",
       "12            644\n",
       "14            547\n",
       "UU            541\n",
       "15            476\n",
       "13            415\n",
       "16            280\n",
       "20            265\n",
       "36            254\n",
       "77            229\n",
       "18            179\n",
       "35            175\n",
       "17            173\n",
       "21            140\n",
       "22            134\n",
       "19            125\n",
       "72            123\n",
       "26            116\n",
       "24            110\n",
       "38            108\n",
       "44            102\n",
       "71             92\n",
       "54             86\n",
       "27             86\n",
       "51             80\n",
       "25             67\n",
       "28             63\n",
       "58             61\n",
       "46             59\n",
       "57             58\n",
       "56             58\n",
       "41             51\n",
       "39             48\n",
       "43             44\n",
       "32             42\n",
       "37             41\n",
       "40             41\n",
       "33             39\n",
       "34             36\n",
       "30             34\n",
       "31             32\n",
       "29             31\n",
       "23             24\n",
       "                3\n",
       "dtype: int64"
      ]
     },
     "execution_count": 10,
     "metadata": {},
     "output_type": "execute_result"
    }
   ],
   "source": [
    "df_acc[[\"c_vehs\"]].value_counts()"
   ]
  },
  {
   "cell_type": "markdown",
   "id": "cd134c8d",
   "metadata": {},
   "source": [
    "### c_conf"
   ]
  },
  {
   "cell_type": "markdown",
   "id": "86ebeb09",
   "metadata": {},
   "source": [
    "Cómo ha sido la colisión:\n",
    "\n",
    "- **Un vehículo en dirección**\n",
    "\n",
    "01 - Con un objeto en movimiento(persona, animal)\n",
    "\n",
    "02 - Con un objeto estacionario(ej:árbol)\n",
    "\n",
    "03 - Lado izquierdo\n",
    "\n",
    "04 - Lado derecho\n",
    "\n",
    "05 - Vuelco en la calzada\n",
    "\n",
    "06 - Cualquier otra colisión de un vehículo\n",
    "\n",
    "- **Dos vehículos en la misma dirección**\n",
    "\n",
    "21 - Colisión trasera\n",
    "\n",
    "22 - Deslizamiento lateral\n",
    "\n",
    "23 - Adelanta un vehículo a otro por la izquierda teniendo una colisión\n",
    "\n",
    "24 - Adelanta un vehñiculo a otro por la derecha teniendo una colisión\n",
    "\n",
    "25 - Cualquier otra colisión de 2 vehículos en la misma dirección\n",
    "\n",
    "- **Dos vehículos en diferente dirección**\n",
    "\n",
    "31 - Colisión frontal\n",
    "\n",
    "32 - Acercándose deslizamiento lateral\n",
    "\n",
    "33 - Giro a la izquierda atravesando el tráfico opuesto\n",
    "\n",
    "34 - Giro a la derecha incluido los conflictos de giro\n",
    "\n",
    "35 - Colisión en ángulo recto\n",
    "\n",
    "36 - Cualquier otra colisión de 2 vehículos en diferente dirección\n",
    "\n",
    "- **Dos vehículos, un vehículo contra otro vehículo aparcado**\n",
    "\n",
    "41 - Contra un coche aparcado\n",
    "\n",
    "\n",
    "Para todas las opciones:\n",
    "\n",
    "QQ - Distinta opción a los valores dados\n",
    "\n",
    "UU - Desconocido\n",
    "\n",
    "XX - No dado por la jurisdicción\n"
   ]
  },
  {
   "cell_type": "code",
   "execution_count": 11,
   "id": "b4e67bcd",
   "metadata": {},
   "outputs": [
    {
     "data": {
      "text/plain": [
       "c_conf\n",
       "21        1771212\n",
       "35         868197\n",
       "06         515468\n",
       "36         431298\n",
       "33         422241\n",
       "QQ         284980\n",
       "04         214350\n",
       "22         197006\n",
       "31         195284\n",
       "02         186935\n",
       "UU         179019\n",
       "03         165410\n",
       "01          92430\n",
       "41          80961\n",
       "23          70088\n",
       "34          62181\n",
       "24          52067\n",
       "32          47307\n",
       "05          13049\n",
       "25          10922\n",
       "dtype: int64"
      ]
     },
     "execution_count": 11,
     "metadata": {},
     "output_type": "execute_result"
    }
   ],
   "source": [
    "df_acc[[\"c_conf\"]].value_counts()"
   ]
  },
  {
   "cell_type": "markdown",
   "id": "b8d4d5d8",
   "metadata": {},
   "source": [
    "### c_rcfg"
   ]
  },
  {
   "cell_type": "markdown",
   "id": "f42d92ca",
   "metadata": {},
   "source": [
    "Se refiere a la zona de la carretera en la que se produce el accidente:\n",
    "\n",
    "01 - No en la intersección\n",
    "\n",
    "02 - En la intersección de dos vías públicos\n",
    "\n",
    "03 - En la intersección con una entrada/salida de un parking, un callejón, etc.\n",
    "\n",
    "04 - Paso de cruce de tren\n",
    "\n",
    "05 - Puente, paso superior, viaducto\n",
    "\n",
    "06 - Túnel o paso inferior\n",
    "\n",
    "07 - Pasar un carril de escalada\n",
    "\n",
    "08 - Rampa\n",
    "\n",
    "09 - Rotonda\n",
    "\n",
    "10 - Carril rápido\n",
    "\n",
    "11 - Carril colector\n",
    "\n",
    "12 - Carril de transferencia\n",
    "\n",
    "\n",
    "QQ - Distinta opción a los valores dados\n",
    "\n",
    "UU - Desconocido\n",
    "\n",
    "XX - No dado por la jurisdicción"
   ]
  },
  {
   "cell_type": "code",
   "execution_count": 12,
   "id": "5516b8f9",
   "metadata": {},
   "outputs": [
    {
     "data": {
      "text/plain": [
       "c_rcfg\n",
       "02        2746752\n",
       "01        2079515\n",
       "UU         504648\n",
       "03         289184\n",
       "QQ         144298\n",
       "05          51196\n",
       "04          23723\n",
       "08          11780\n",
       "06           6001\n",
       "09           1743\n",
       "07           1009\n",
       "10            556\n",
       "dtype: int64"
      ]
     },
     "execution_count": 12,
     "metadata": {},
     "output_type": "execute_result"
    }
   ],
   "source": [
    "df_acc[[\"c_rcfg\"]].value_counts()"
   ]
  },
  {
   "cell_type": "markdown",
   "id": "ce911725",
   "metadata": {},
   "source": [
    "### c_wthr"
   ]
  },
  {
   "cell_type": "markdown",
   "id": "68b7a7d8",
   "metadata": {},
   "source": [
    "Condición de la meteorología:\n",
    "\n",
    "1 - Soleado y despejado\n",
    "\n",
    "2 - Nublado pero sin precipitación\n",
    "\n",
    "3 - Lluvia\n",
    "\n",
    "4 - Nieve\n",
    "\n",
    "5 - Heladas, aguanieve, granizo\n",
    "\n",
    "6 - Visibilidad limitada (niebla, humo, polvo)\n",
    "\n",
    "7 - Viento fuerte\n",
    "\n",
    "Q - Distinta opción a los valores dados\n",
    "\n",
    "U - Desconocido\n",
    "\n",
    "X - No dado por la jurisdicción\n"
   ]
  },
  {
   "cell_type": "code",
   "execution_count": 16,
   "id": "b3405a51",
   "metadata": {},
   "outputs": [
    {
     "data": {
      "text/plain": [
       "c_wthr\n",
       "1         4074538\n",
       "2          600226\n",
       "3          600105\n",
       "4          354615\n",
       "U           87975\n",
       "6           82439\n",
       "5           30330\n",
       "7           15164\n",
       "Q           15013\n",
       "dtype: int64"
      ]
     },
     "execution_count": 16,
     "metadata": {},
     "output_type": "execute_result"
    }
   ],
   "source": [
    "df_acc[['c_wthr']].value_counts()"
   ]
  },
  {
   "cell_type": "markdown",
   "id": "f5334b4e",
   "metadata": {},
   "source": [
    "### c_rsur"
   ]
  },
  {
   "cell_type": "markdown",
   "id": "816f32b5",
   "metadata": {},
   "source": [
    "Condición en la que se encuentra el asfalto:\n",
    "\n",
    "1 - Seco, normal\n",
    "\n",
    "2 - Mojado\n",
    "\n",
    "3 - Nieve\n",
    "\n",
    "4 - Aguanieve, nieve derretida\n",
    "\n",
    "5 - Hielo\n",
    "\n",
    "6 - Arena, grava, tierra\n",
    "\n",
    "7 - Lodo\n",
    "\n",
    "8 - Aceite\n",
    "\n",
    "9 - Inundado\n",
    "\n",
    "Q - Distinta opción para los valores dados\n",
    "\n",
    "U - Desconocido\n",
    "\n",
    "X - No dado por la jurisdicción"
   ]
  },
  {
   "cell_type": "code",
   "execution_count": 17,
   "id": "a7c835b5",
   "metadata": {},
   "outputs": [
    {
     "data": {
      "text/plain": [
       "c_rsur\n",
       "1         3846162\n",
       "2         1080964\n",
       "5          320445\n",
       "3          259234\n",
       "Q          170217\n",
       "U           78451\n",
       "4           72041\n",
       "6           25355\n",
       "7            6018\n",
       "8            1226\n",
       "9             292\n",
       "dtype: int64"
      ]
     },
     "execution_count": 17,
     "metadata": {},
     "output_type": "execute_result"
    }
   ],
   "source": [
    "df_acc[['c_rsur']].value_counts()"
   ]
  },
  {
   "cell_type": "markdown",
   "id": "7584524c",
   "metadata": {},
   "source": [
    "### c_raln"
   ]
  },
  {
   "cell_type": "markdown",
   "id": "48dba829",
   "metadata": {},
   "source": [
    "Cómo es el tramo de la carretera:\n",
    "\n",
    "1 - Recta y nivelada\n",
    "\n",
    "2 - Recta con pendiente\n",
    "\n",
    "3 - Curva y nivelada\n",
    "\n",
    "4 - Curva con pendiente\n",
    "\n",
    "5 - Cima de colina o cima en pendiente\n",
    "\n",
    "6 - Parte inferior de la colina o parte inferior de la pendiente\n",
    "\n",
    "Q - Distinta opción a los valores dados\n",
    "\n",
    "U - Desconocido\n",
    "\n",
    "X - No dado por la jurisdicción"
   ]
  },
  {
   "cell_type": "code",
   "execution_count": 18,
   "id": "0e5c0925",
   "metadata": {},
   "outputs": [
    {
     "data": {
      "text/plain": [
       "c_raln\n",
       "1         4162359\n",
       "2          584025\n",
       "U          434710\n",
       "3          360870\n",
       "4          224222\n",
       "5           37991\n",
       "Q           28602\n",
       "6           27626\n",
       "dtype: int64"
      ]
     },
     "execution_count": 18,
     "metadata": {},
     "output_type": "execute_result"
    }
   ],
   "source": [
    "df_acc[['c_raln']].value_counts()"
   ]
  },
  {
   "cell_type": "markdown",
   "id": "e343ac16",
   "metadata": {},
   "source": [
    "### c_traf"
   ]
  },
  {
   "cell_type": "markdown",
   "id": "03561f10",
   "metadata": {},
   "source": [
    "Control del tráfico:\n",
    "\n",
    "01 - Señales de tráfico en pleno funcionamiento\n",
    "\n",
    "02 - Señales de tráfico en modo intermitente\n",
    "\n",
    "03 - Stop\n",
    "\n",
    "04 - Ceda el peso\n",
    "\n",
    "05 - Señal de peligro\n",
    "\n",
    "06 - Paso de peatones\n",
    "\n",
    "07 - Oficial de policía\n",
    "\n",
    "08 - Controlador de tráfico del colegio\n",
    "\n",
    "09 - Cruce de peatones escolar\n",
    "\n",
    "10 - Zona de velocidad reducidad\n",
    "\n",
    "11 - Señal de no traspasar la zona\n",
    "\n",
    "12 - Marcas en la carretera de no pasar\n",
    "\n",
    "13 - Parada de autobús escolar con señales intermitentes\n",
    "\n",
    "14 - Para de autobús escolar con señales no intermitentes\n",
    "\n",
    "15 - Cruce de tren con señales y barras\n",
    "\n",
    "16 - Cruce de tren con señales\n",
    "\n",
    "17 - Control de tráfico\n",
    "\n",
    "18 - No control presente\n",
    "\n",
    "QQ - Distinta opción a los valores dados\n",
    "\n",
    "UU - Desconocido\n",
    "\n",
    "XX - No dado por la jurisdicción"
   ]
  },
  {
   "cell_type": "code",
   "execution_count": 20,
   "id": "c5c8db32",
   "metadata": {},
   "outputs": [
    {
     "data": {
      "text/plain": [
       "c_traf\n",
       "18        3068048\n",
       "01        1628309\n",
       "03         650008\n",
       "UU         223483\n",
       "04          89688\n",
       "QQ          82018\n",
       "06          45600\n",
       "08          24479\n",
       "02          19114\n",
       "13           4298\n",
       "05           4199\n",
       "17           3969\n",
       "15           3852\n",
       "11           3421\n",
       "12           3209\n",
       "10           2924\n",
       "07           2419\n",
       "16            817\n",
       "09            550\n",
       "dtype: int64"
      ]
     },
     "execution_count": 20,
     "metadata": {},
     "output_type": "execute_result"
    }
   ],
   "source": [
    "df_acc[['c_traf']].value_counts()"
   ]
  },
  {
   "cell_type": "markdown",
   "id": "8b93cf47",
   "metadata": {},
   "source": [
    "### v_id"
   ]
  },
  {
   "cell_type": "markdown",
   "id": "9b2e5fea",
   "metadata": {},
   "source": [
    "Identificación del vehículo:\n",
    "\n",
    "01-98 - Secuencia de vehículos del 1 al 98\n",
    "\n",
    "99 - Secuencia asignada a peatones\n",
    "\n",
    "UU - Desconocido (casos en los que no se puede identificar en que vehículo estaba montado)"
   ]
  },
  {
   "cell_type": "code",
   "execution_count": 43,
   "id": "b57846a5",
   "metadata": {},
   "outputs": [
    {
     "data": {
      "text/plain": [
       "v_id\n",
       "01      3109283\n",
       "02      2150414\n",
       "03       298523\n",
       "99       219337\n",
       "04        58518\n",
       "         ...   \n",
       "86            2\n",
       "74            2\n",
       "83            1\n",
       "85            1\n",
       "75            1\n",
       "Length: 82, dtype: int64"
      ]
     },
     "execution_count": 43,
     "metadata": {},
     "output_type": "execute_result"
    }
   ],
   "source": [
    "df_acc[['v_id']].value_counts()"
   ]
  },
  {
   "cell_type": "markdown",
   "id": "d5da4e32",
   "metadata": {},
   "source": [
    "### v_type"
   ]
  },
  {
   "cell_type": "markdown",
   "id": "6c678cb4",
   "metadata": {},
   "source": [
    "Tipo de vehículo:\n",
    "\n",
    "01 - Vehículo ligero\n",
    "\n",
    "05 - Camión de carga\n",
    "\n",
    "06 - Otros camiones y furgonetas\n",
    "\n",
    "07 - Camiones pesados\n",
    "\n",
    "08 - Tractor\n",
    "\n",
    "09 - Bus escolar\n",
    "\n",
    "10 - Minibus escolar\n",
    "\n",
    "11 - Bus interurbano\n",
    "\n",
    "14 - Motos y ciclomotor\n",
    "\n",
    "16 - Vehículos todoterreno(motocross...)\n",
    "\n",
    "17 - Bicicletas\n",
    "\n",
    "18 - Autocaravana\n",
    "\n",
    "19 - Coche de granja(con animales)\n",
    "\n",
    "20 - Equipos de construcción\n",
    "\n",
    "21 - Camión de bomberos\n",
    "\n",
    "22 - Moto de nieve\n",
    "\n",
    "23 - Tranvía\n",
    "\n",
    "NN - Elemento de dato no aplicado (dummy, registro vehículo creado para el peatón)\n",
    "\n",
    "QQ - Distinta opción a los valores dados\n",
    "\n",
    "UU - Desconocido\n",
    "\n",
    "XX - No dado por jurisdicción\n"
   ]
  },
  {
   "cell_type": "code",
   "execution_count": 23,
   "id": "5329b945",
   "metadata": {},
   "outputs": [
    {
     "data": {
      "text/plain": [
       "v_type\n",
       "01        4827390\n",
       "NN         227913\n",
       "06         175491\n",
       "17         122907\n",
       "14         122734\n",
       "07          88057\n",
       "08          70556\n",
       "05          66106\n",
       "11          51260\n",
       "UU          29754\n",
       "QQ          25444\n",
       "09          20914\n",
       "16           9722\n",
       "20           7635\n",
       "22           4583\n",
       "18           3132\n",
       "23           3075\n",
       "19           2001\n",
       "10            906\n",
       "21            825\n",
       "dtype: int64"
      ]
     },
     "execution_count": 23,
     "metadata": {},
     "output_type": "execute_result"
    }
   ],
   "source": [
    "df_acc[['v_type']].value_counts()"
   ]
  },
  {
   "cell_type": "markdown",
   "id": "5f04cf79",
   "metadata": {},
   "source": [
    "### v_year"
   ]
  },
  {
   "cell_type": "markdown",
   "id": "3065c466",
   "metadata": {},
   "source": [
    "Año de fabricación del vehículo:\n",
    "\n",
    "19XX - 20XX Año del coche fabricado\n",
    "\n",
    "NNNN - Elemento de dato no aplicado(dummy, registro vehículo creado para peatón)\n",
    "\n",
    "UUUU - Desconocido\n",
    "\n",
    "XXXX - No dado por jurisdicción"
   ]
  },
  {
   "cell_type": "code",
   "execution_count": 24,
   "id": "39f31c1a",
   "metadata": {},
   "outputs": [
    {
     "data": {
      "text/plain": [
       "v_year\n",
       "UUUU      324122\n",
       "2000      323183\n",
       "1998      295311\n",
       "2002      293534\n",
       "1999      287640\n",
       "           ...  \n",
       "1909           2\n",
       "1907           2\n",
       "1904           2\n",
       "1910           1\n",
       "1906           1\n",
       "Length: 116, dtype: int64"
      ]
     },
     "execution_count": 24,
     "metadata": {},
     "output_type": "execute_result"
    }
   ],
   "source": [
    "df_acc[['v_year']].value_counts()"
   ]
  },
  {
   "cell_type": "markdown",
   "id": "178ead88",
   "metadata": {},
   "source": [
    "### p_id"
   ]
  },
  {
   "cell_type": "markdown",
   "id": "63f4d1a4",
   "metadata": {},
   "source": [
    "Identificación de persona:\n",
    "\n",
    "01-99 - Identificación de personas del 01 al 99\n",
    "\n",
    "NN - Elemento de dato no aplicado(dummy, registro de persona creado por datos aparcados)\n",
    "\n",
    "UU - Desconocido(se aplica a los coches fugitivos)"
   ]
  },
  {
   "cell_type": "code",
   "execution_count": 26,
   "id": "a89e1d6a",
   "metadata": {},
   "outputs": [
    {
     "data": {
      "text/plain": [
       "p_id\n",
       "01      4170908\n",
       "02      1133519\n",
       "03       341408\n",
       "04       131881\n",
       "05        41503\n",
       "         ...   \n",
       "73            2\n",
       "75            2\n",
       "94            1\n",
       "95            1\n",
       "99            1\n",
       "Length: 98, dtype: int64"
      ]
     },
     "execution_count": 26,
     "metadata": {},
     "output_type": "execute_result"
    }
   ],
   "source": [
    "df_acc[['p_id']].value_counts()"
   ]
  },
  {
   "cell_type": "markdown",
   "id": "356e9d68",
   "metadata": {},
   "source": [
    "### p_sex"
   ]
  },
  {
   "cell_type": "markdown",
   "id": "fca4e2da",
   "metadata": {},
   "source": [
    "Género de la persona:\n",
    "\n",
    "F - Mujer\n",
    "\n",
    "M - Hombre\n",
    "\n",
    "N - Elemento de dato no aplicado(dummy, registro de persona creado para coches aparcados)\n",
    "\n",
    "U - Desconocido(se aplica a los coches fuera de control)\n",
    "\n",
    "X - No dado por jurisdicción\n"
   ]
  },
  {
   "cell_type": "code",
   "execution_count": 27,
   "id": "b3a366f2",
   "metadata": {},
   "outputs": [
    {
     "data": {
      "text/plain": [
       "p_sex\n",
       "M        3170244\n",
       "F        2440421\n",
       "U         234954\n",
       "N          14786\n",
       "dtype: int64"
      ]
     },
     "execution_count": 27,
     "metadata": {},
     "output_type": "execute_result"
    }
   ],
   "source": [
    "df_acc[['p_sex']].value_counts()"
   ]
  },
  {
   "cell_type": "markdown",
   "id": "38721eb2",
   "metadata": {},
   "source": [
    "### p_age"
   ]
  },
  {
   "cell_type": "markdown",
   "id": "cb67d133",
   "metadata": {},
   "source": [
    "Edad de las personas:\n",
    "\n",
    "00 - Menos de 1 año\n",
    "\n",
    "01-98 - De 1 año a 98 años\n",
    "\n",
    "99 - 99 años o más\n",
    "\n",
    "NN - Elemento del dato no aplicado(dummy, registro de persona creado para coches aparcados)\n",
    "\n",
    "UU - Desconocido(se aplica a los coches fugitivos)\n",
    "\n",
    "XX - No dado por la jurisdicción"
   ]
  },
  {
   "cell_type": "code",
   "execution_count": 28,
   "id": "9f831318",
   "metadata": {},
   "outputs": [
    {
     "data": {
      "text/plain": [
       "p_age\n",
       "UU       377140\n",
       "18       171719\n",
       "19       167721\n",
       "20       158747\n",
       "17       158163\n",
       "          ...  \n",
       "99          321\n",
       "95          292\n",
       "96          201\n",
       "98          193\n",
       "97          110\n",
       "Length: 101, dtype: int64"
      ]
     },
     "execution_count": 28,
     "metadata": {},
     "output_type": "execute_result"
    }
   ],
   "source": [
    "df_acc[['p_age']].value_counts()"
   ]
  },
  {
   "cell_type": "markdown",
   "id": "4f3aac5c",
   "metadata": {},
   "source": [
    "### p_psn"
   ]
  },
  {
   "cell_type": "markdown",
   "id": "df63f8b4",
   "metadata": {},
   "source": [
    "Posición de la persona:\n",
    "\n",
    "11 - Driver\n",
    "\n",
    "12 - Copiloto\n",
    "\n",
    "13 - Primera fila, incluido en la moto ir en el sidecar\n",
    "\n",
    "21 - Segunda fila, lado izdo. (incluido el pasajero de la moto)\n",
    "\n",
    "22 - Segunda fila, en el centro\n",
    "\n",
    "23 - Segunda fila, lado dcho.\n",
    "\n",
    "31 - Tercera fila, lado izdo.\n",
    "\n",
    "32 - Tercera fila, centro\n",
    "\n",
    "33 - Tercera fila, lado dcho.\n",
    "\n",
    "96 - Posición desconocida, pero la persona era un ocupante\n",
    "\n",
    "97 - Sentado encima de alguien\n",
    "\n",
    "98 - Fuera del comportamiento del pasajero(viajando en la parte trasera de una camioneta)\n",
    "\n",
    "99 - Pasajero\n",
    "\n",
    "NN - Elemento del dato no aplicado (dummy, registro de persona creado para coches aparcados)\n",
    "\n",
    "QQ - Distinta opción a valores dados\n",
    "\n",
    "UU - Desconocido (se aplica a los coches fugitivos)\n",
    "\n",
    "XX - No dado por la jurisdicción\n"
   ]
  },
  {
   "cell_type": "code",
   "execution_count": 29,
   "id": "38f2bbc7",
   "metadata": {},
   "outputs": [
    {
     "data": {
      "text/plain": [
       "11    3926086\n",
       "13     884534\n",
       "23     258122\n",
       "21     215997\n",
       "99     208888\n",
       "22      90317\n",
       "12      87671\n",
       "UU      57662\n",
       "96      43850\n",
       "32      30092\n",
       "QQ      25862\n",
       "NN      14153\n",
       "98       6658\n",
       "33       5756\n",
       "31       4566\n",
       "97        191\n",
       "Name: p_psn, dtype: int64"
      ]
     },
     "execution_count": 29,
     "metadata": {},
     "output_type": "execute_result"
    }
   ],
   "source": [
    "df_acc['p_psn'].value_counts()"
   ]
  },
  {
   "cell_type": "markdown",
   "id": "36f76bb9",
   "metadata": {},
   "source": [
    "### p_isev"
   ]
  },
  {
   "cell_type": "markdown",
   "id": "4afefb89",
   "metadata": {},
   "source": [
    "Tratamiento médico requerido:\n",
    "\n",
    "1 - Sin lesiones\n",
    "\n",
    "2 - Con lesiones\n",
    "\n",
    "3 - Muerto\n",
    "\n",
    "N - Elemento del dato no aplicado(dummy para coches aparcados)\n",
    "\n",
    "X - No dado por la jurisdicción"
   ]
  },
  {
   "cell_type": "code",
   "execution_count": 30,
   "id": "90dcea8e",
   "metadata": {},
   "outputs": [
    {
     "data": {
      "text/plain": [
       "p_isev\n",
       "2         3073431\n",
       "1         2375208\n",
       "N          290711\n",
       "U           80701\n",
       "3           40354\n",
       "dtype: int64"
      ]
     },
     "execution_count": 30,
     "metadata": {},
     "output_type": "execute_result"
    }
   ],
   "source": [
    "df_acc[['p_isev']].value_counts()"
   ]
  },
  {
   "cell_type": "markdown",
   "id": "70bd6eed",
   "metadata": {},
   "source": [
    "### p_safe"
   ]
  },
  {
   "cell_type": "markdown",
   "id": "adfa65ee",
   "metadata": {},
   "source": [
    "Dispositivo de seguridad utilizado:\n",
    "\n",
    "01 - Ninguno\n",
    "\n",
    "02 - Dispositivo de seguridad o asiento de seguridad para niños\n",
    "\n",
    "09 - Casco\n",
    "\n",
    "10 - Ropa reflectiva\n",
    "\n",
    "11 - Casco y ropa\n",
    "\n",
    "12 - Otros elementos de seguridad \n",
    "\n",
    "13 - No tiene dispositivos de seguridad(ej:autobuses)\n",
    "\n",
    "NN - Elemento del dato no aplicado(dummy para coches aparcados)\n",
    "\n",
    "QQ - Distinta opción a los valores dados\n",
    "\n",
    "UU - Desconocido(aplicado a coches fugitivos)\n",
    "\n",
    "XX - No dado por la jurisdicción\n"
   ]
  },
  {
   "cell_type": "code",
   "execution_count": 31,
   "id": "3494ac25",
   "metadata": {},
   "outputs": [
    {
     "data": {
      "text/plain": [
       "p_safe\n",
       "02        4163903\n",
       "UU         615188\n",
       "NN         571946\n",
       "01         198606\n",
       "13         148730\n",
       "09          96437\n",
       "QQ          47150\n",
       "12          18322\n",
       "10            112\n",
       "11             11\n",
       "dtype: int64"
      ]
     },
     "execution_count": 31,
     "metadata": {},
     "output_type": "execute_result"
    }
   ],
   "source": [
    "df_acc[['p_safe']].value_counts()"
   ]
  },
  {
   "cell_type": "markdown",
   "id": "9021477b",
   "metadata": {},
   "source": [
    "### p_user"
   ]
  },
  {
   "cell_type": "markdown",
   "id": "db2b25ad",
   "metadata": {},
   "source": [
    "Tipo de usuario:\n",
    "\n",
    "1 - Conductor del vehículo\n",
    "\n",
    "2 - Pasajero del vehículo\n",
    "\n",
    "3 - Peatón\n",
    "\n",
    "4 - Ciclista\n",
    "\n",
    "5 - Motorista\n",
    "\n",
    "U - No se indica / otro / desconocido"
   ]
  },
  {
   "cell_type": "code",
   "execution_count": 32,
   "id": "1e7a0f1b",
   "metadata": {},
   "outputs": [
    {
     "data": {
      "text/plain": [
       "p_user\n",
       "1         3658827\n",
       "2         1561014\n",
       "3          219337\n",
       "U          175586\n",
       "4          122907\n",
       "5          122734\n",
       "dtype: int64"
      ]
     },
     "execution_count": 32,
     "metadata": {},
     "output_type": "execute_result"
    }
   ],
   "source": [
    "df_acc[['p_user']].value_counts()"
   ]
  },
  {
   "cell_type": "markdown",
   "id": "217d0fa0",
   "metadata": {},
   "source": [
    "---"
   ]
  }
 ],
 "metadata": {
  "kernelspec": {
   "display_name": "Python [conda env:practica_final]",
   "language": "python",
   "name": "conda-env-practica_final-py"
  },
  "language_info": {
   "codemirror_mode": {
    "name": "ipython",
    "version": 3
   },
   "file_extension": ".py",
   "mimetype": "text/x-python",
   "name": "python",
   "nbconvert_exporter": "python",
   "pygments_lexer": "ipython3",
   "version": "3.9.7"
  }
 },
 "nbformat": 4,
 "nbformat_minor": 5
}
