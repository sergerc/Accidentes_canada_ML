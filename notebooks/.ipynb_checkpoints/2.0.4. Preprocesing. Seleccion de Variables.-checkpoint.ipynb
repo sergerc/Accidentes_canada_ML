{
 "cells": [
  {
   "attachments": {
    "Cuneflogo.png": {
     "image/png": "[encoded data removed]"
    }
   },
   "cell_type": "markdown",
   "id": "ae65ee5f",
   "metadata": {},
   "source": [
    "![Cuneflogo.png](attachment:Cuneflogo.png)"
   ]
  },
  {
   "cell_type": "markdown",
   "id": "0731703d",
   "metadata": {},
   "source": [
    "Realizado por:\n",
    "\n",
    "***Sergio Ranz Casado***  \n",
    "***Marcos Medina Cogolludo***\n",
    "\n",
    "---"
   ]
  },
  {
   "cell_type": "markdown",
   "id": "6557714a",
   "metadata": {},
   "source": [
    "Una vez realizado el EDA, y teniendo en cuenta el notebook 0.1. donde realizamos una primera exploración rapida de datos. Realizamos el preprocesamiento de datos. En este sentido estos son los puntos que  trataremos:\n",
    "\n",
    "**2.0.1. Limpieza del dataset:**\n",
    "----\n",
    "1. Eliminación de los duplicados.  \n",
    "2. Eliminación de valores anómalos. (Vehiculos del 2015 que han tenido un accidente en el 2014). \n",
    "3. Agrupación de los valores por accidente. \n",
    " \n",
    "\n",
    "**2.0.2. Analisis de las variables:**\n",
    "---\n",
    "4. Analisis de la distribución. \n",
    "5. Analisis outliers variables continuas. \n",
    "6. Correlacción variables continuas. \n",
    "7. Eliminación de las variables correlaccionadas. Si procede.\n",
    "8. Analisis variable objetivo. \n",
    "\n",
    "**2.0.3. SPLIT:**\n",
    "----\n",
    "9.  División Train y Test.\n",
    "10. Igualar la muestra de Train. \n",
    "11. Tratamiento de variables numericas. Distribución continua. \n",
    "12. Tratamiento de variables categoricas. Distribución discreta. \n",
    "\n",
    "**2.0.4. SELECCIÓN DE VARIABLES:**\n",
    "----\n",
    "13. Selección de variables. "
   ]
  },
  {
   "cell_type": "markdown",
   "id": "b604958c",
   "metadata": {},
   "source": [
    "---"
   ]
  },
  {
   "cell_type": "markdown",
   "id": "56ac8f21",
   "metadata": {},
   "source": [
    "#### Importo Librerias"
   ]
  },
  {
   "cell_type": "code",
   "execution_count": 1,
   "id": "36123d9f",
   "metadata": {},
   "outputs": [],
   "source": [
    "import warnings\n",
    "warnings.filterwarnings('ignore')"
   ]
  },
  {
   "cell_type": "code",
   "execution_count": 2,
   "id": "764e3012",
   "metadata": {},
   "outputs": [],
   "source": [
    "import pandas as pd\n",
    "import pyarrow.csv as pv\n",
    "import pyarrow.parquet as pq\n",
    "import seaborn as sns\n",
    "import numpy as np\n",
    "from matplotlib import pyplot as plt\n",
    "from sklearn import preprocessing\n",
    "import pandas as pd\n",
    "import pyarrow.csv as pv\n",
    "import pyarrow.parquet as pq\n",
    "import seaborn as sns\n",
    "from sklearn.preprocessing import StandardScaler\n",
    "from sklearn.model_selection import train_test_split\n",
    "from sklearn.preprocessing import LabelEncoder\n",
    "from sklearn.preprocessing import StandardScaler\n",
    "from sklearn.preprocessing import RobustScaler\n",
    "import category_encoders as ce\n",
    "from sklearn.linear_model import Lasso, LogisticRegression\n",
    "from sklearn.feature_selection import SelectFromModel, RFE"
   ]
  },
  {
   "cell_type": "markdown",
   "id": "1cd461a1",
   "metadata": {},
   "source": [
    "---"
   ]
  },
  {
   "cell_type": "markdown",
   "id": "eb75b372",
   "metadata": {},
   "source": [
    "#### Importo el train y test"
   ]
  },
  {
   "cell_type": "code",
   "execution_count": 3,
   "id": "1f751d3b",
   "metadata": {},
   "outputs": [],
   "source": [
    "train = pd.read_parquet('../data/train1.parquet')\n",
    "test = pd.read_parquet('../data/test1.parquet')"
   ]
  },
  {
   "cell_type": "markdown",
   "id": "bb472d75",
   "metadata": {},
   "source": [
    "Divido entre 'xtrain' e 'ytrain'"
   ]
  },
  {
   "cell_type": "code",
   "execution_count": 4,
   "id": "89e42d9f",
   "metadata": {},
   "outputs": [],
   "source": [
    "x_train = train.drop('c_sev',axis=1)\n",
    "x_test = test.drop('c_sev',axis=1)\n",
    "y_train = train['c_sev']\n",
    "y_test = test['c_sev']"
   ]
  },
  {
   "cell_type": "markdown",
   "id": "47216a5b",
   "metadata": {},
   "source": [
    "---"
   ]
  },
  {
   "cell_type": "markdown",
   "id": "fc21637c",
   "metadata": {},
   "source": [
    "#### SELECCIÓN DE VARIABLES:"
   ]
  },
  {
   "cell_type": "markdown",
   "id": "cff68773",
   "metadata": {},
   "source": [
    "En este notebook, el último del preprocesado, vamos a emplear el Selectfrommodel, un método de selección de variables que nos indica qué variables son mas importantes para el modelo. Dentro de este metodo destacan dos tipos de selección por regularización: \n",
    "\n",
    "- Selección por [`Regularización Ridge:`](https://medium.com/@minions.k/ridge-regression-l1-regularization-method-31b6bc03cbf) La cual penaliza la suma de los coeficientes estimados elevados al cuadrado. A esta penalización se le conoce como l2 y tiene el efecto de reducir de forma proporcional el valor de todos los coeficientes del modelo pero sin que estos lleguen a cero.\n",
    "\n",
    "- Selección por [`Regularización Lasso:`](https://www.mygreatlearning.com/blog/understanding-of-lasso-regression/) Mas conocida como (penalización L1), la cual acepta coeficientes que sean 0. En la función SelectFromModel si no se especifican parámetros, en este caso se queda con todas las variables cuyo coeficiente no sea cero. Para limitar el número de variables es necesario poner valor a los parámetros, en este caso el threshold o frontera, en el cual indicaremos a partir de que punto no queremos que coja datos. \n",
    "\n",
    "\n",
    "Debido a que Lasso nos permite eliminar los coeficientes que sean 0, o bien, la franja que le indiquemos en el threshold, escogeremos este metodo por delante del de Ridge, no obstante, iremos probando..."
   ]
  },
  {
   "cell_type": "markdown",
   "id": "cdf60e56",
   "metadata": {},
   "source": [
    "---"
   ]
  },
  {
   "cell_type": "markdown",
   "id": "35abf681",
   "metadata": {},
   "source": [
    "#### Selección Lasso"
   ]
  },
  {
   "cell_type": "code",
   "execution_count": 12,
   "id": "a75beae8",
   "metadata": {},
   "outputs": [
    {
     "data": {
      "text/plain": [
       "SelectFromModel(estimator=LogisticRegression(C=1, penalty='l1',\n",
       "                                             solver='liblinear'),\n",
       "                threshold=0.005)"
      ]
     },
     "execution_count": 12,
     "metadata": {},
     "output_type": "execute_result"
    }
   ],
   "source": [
    "sel_lasso = SelectFromModel(LogisticRegression(C=1, penalty='l1', \n",
    "                                          solver='liblinear'), threshold = 0.005) # jugaremos con el parametro Threshold\n",
    "sel_lasso.fit(x_train, y_train)"
   ]
  },
  {
   "cell_type": "code",
   "execution_count": 13,
   "id": "25289316",
   "metadata": {},
   "outputs": [
    {
     "data": {
      "text/plain": [
       "Index(['c_mnth', 'c_wday', 'c_hour', 'c_vehs', 'c_conf', 'c_rcfg', 'c_wthr',\n",
       "       'c_rsur', 'c_raln', 'c_traf', 'c_nums'],\n",
       "      dtype='object')"
      ]
     },
     "execution_count": 13,
     "metadata": {},
     "output_type": "execute_result"
    }
   ],
   "source": [
    "sel_lasso.get_support()\n",
    "selected_feat_lasso = x_train.columns[sel_lasso.get_support()]\n",
    "selected_feat_lasso"
   ]
  },
  {
   "cell_type": "code",
   "execution_count": 14,
   "id": "d380a3e9",
   "metadata": {},
   "outputs": [
    {
     "name": "stdout",
     "output_type": "stream",
     "text": [
      "total features: 12\n",
      "selected features: 11\n"
     ]
    }
   ],
   "source": [
    "print('total features: {}'.format((x_train.shape[1])))\n",
    "print('selected features: {}'.format(len(selected_feat_lasso)))"
   ]
  },
  {
   "cell_type": "code",
   "execution_count": 15,
   "id": "50c947ae",
   "metadata": {},
   "outputs": [
    {
     "data": {
      "image/png": "[encoded data removed]",
      "text/plain": [
       "<Figure size 1152x276.48 with 1 Axes>"
      ]
     },
     "metadata": {
      "needs_background": "light"
     },
     "output_type": "display_data"
    }
   ],
   "source": [
    "# Coeficientes del modelo\n",
    "# ==============================================================================\n",
    "df_coeficientes_lasso = pd.DataFrame(\n",
    "                        {'predictor': x_train.columns,\n",
    "                         'coef': sel_lasso.estimator_.coef_.flatten()}\n",
    "                  )\n",
    "\n",
    "fig, ax = plt.subplots(figsize=(16, 3.84))\n",
    "ax.stem(df_coeficientes_lasso.predictor, df_coeficientes_lasso.coef, markerfmt=' ')\n",
    "plt.xticks(rotation=90, ha='right', size=10)\n",
    "ax.set_xlabel('variable')\n",
    "ax.set_ylabel('coeficientes')\n",
    "ax.set_title('Coeficientes del modelo lasso');"
   ]
  },
  {
   "cell_type": "markdown",
   "id": "d0eb7962",
   "metadata": {},
   "source": [
    "Vemos como las variables que contribuyen a que existan mas fallecimientos en un accidente de tragico es `c_conf`, que es la configuración del coche y `c_rsur` que es el estado de la carretera. \n",
    "\n",
    "Las variables que menos importancia tienen, son `c_year`, `c_mnth`, `c_wday` y `c_hour`. Si bien es cierto, que, si hubieramos introducido un threshold de 0.1, todas estas variables las hubieramos excluido. Es por eso, que hemos introducido un threshold menor, 0.005, lo mas cercano a cero, para no excluir tantas variables. \n",
    "\n",
    "La única variable que hemos excluido es `c_year`, lo cual nos parece razonable, ya que a la hora de predecir la mortalidad de accidentes no creemos que debamos tener en cuenta la tendencia que han tenido los accidentes de canada. Sino predecir lo que sucederá basandonos en el resto de variables. Las tendencias pueden variar. Las causas de mortalidad en un accidente, es mucho mas dificil que cambien. Por ello hemos tomado esa decisión. "
   ]
  },
  {
   "cell_type": "markdown",
   "id": "09e7f83c",
   "metadata": {},
   "source": [
    "#### Asignamos los valores seleccionados por el lasso a train y test "
   ]
  },
  {
   "cell_type": "code",
   "execution_count": 16,
   "id": "607f4586",
   "metadata": {},
   "outputs": [],
   "source": [
    "x_train_s = x_train[selected_feat_lasso]\n",
    "x_test_s = x_test[selected_feat_lasso]"
   ]
  },
  {
   "cell_type": "code",
   "execution_count": 17,
   "id": "e4d31d5e",
   "metadata": {},
   "outputs": [],
   "source": [
    "x_train_s = pd.concat([x_train_s, y_train], axis=1)\n",
    "x_test_s = pd.concat([x_test_s, y_test], axis=1)"
   ]
  },
  {
   "cell_type": "markdown",
   "id": "1da627d9",
   "metadata": {},
   "source": [
    "---"
   ]
  },
  {
   "cell_type": "markdown",
   "id": "3542b310",
   "metadata": {},
   "source": [
    "#### Guardamos. "
   ]
  },
  {
   "cell_type": "code",
   "execution_count": 18,
   "id": "35a4b136",
   "metadata": {},
   "outputs": [],
   "source": [
    "x_train_s.to_parquet(\"../data/trainselect1.parquet\")\n",
    "x_test_s.to_parquet(\"../data/testselect1.parquet\")"
   ]
  },
  {
   "cell_type": "markdown",
   "id": "9f4a7c5b",
   "metadata": {},
   "source": [
    "---"
   ]
  },
  {
   "cell_type": "markdown",
   "id": "2cad6dcb",
   "metadata": {},
   "source": [
    "#### Enlaces de interés: "
   ]
  },
  {
   "cell_type": "markdown",
   "id": "fd173a11",
   "metadata": {},
   "source": [
    "[`Feature selection in machine learning using Lasso regression`](https://towardsdatascience.com/feature-selection-in-machine-learning-using-lasso-regression-7809c7c2771a#:~:text=How%20can%20we%20use%20it,its%20coefficient%20equal%20to%200.)\n",
    "\n",
    "[`Ridge & Lasso Regression`](https://towardsdatascience.com/ridge-and-lasso-regression-a-complete-guide-with-python-scikit-learn-e20e34bcbf0b)\n",
    "\n",
    "[`Regularization: Ridge, Lasso and Elastic Net`](https://www.datacamp.com/community/tutorials/tutorial-ridge-lasso-elastic-net)"
   ]
  },
  {
   "cell_type": "markdown",
   "id": "5a58fa85",
   "metadata": {},
   "source": [
    "---"
   ]
  }
 ],
 "metadata": {
  "kernelspec": {
   "display_name": "Python [conda env:practica_final]",
   "language": "python",
   "name": "conda-env-practica_final-py"
  },
  "language_info": {
   "codemirror_mode": {
    "name": "ipython",
    "version": 3
   },
   "file_extension": ".py",
   "mimetype": "text/x-python",
   "name": "python",
   "nbconvert_exporter": "python",
   "pygments_lexer": "ipython3",
   "version": "3.9.7"
  }
 },
 "nbformat": 4,
 "nbformat_minor": 5
}
