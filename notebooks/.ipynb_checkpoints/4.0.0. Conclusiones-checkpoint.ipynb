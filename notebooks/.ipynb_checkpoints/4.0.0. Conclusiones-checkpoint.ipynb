{
 "cells": [
  {
   "attachments": {
    "Cuneflogo.png": {
     "image/png": "[encoded data removed]"
    }
   },
   "cell_type": "markdown",
   "id": "c9d1f1bf",
   "metadata": {},
   "source": [
    "![Cuneflogo.png](attachment:Cuneflogo.png)"
   ]
  },
  {
   "cell_type": "markdown",
   "id": "98bf0f9a",
   "metadata": {},
   "source": [
    "Realizado por:\n",
    "\n",
    "***Sergio Ranz Casado***  \n",
    "***Marcos Medina Cogolludo***\n",
    "\n",
    "---"
   ]
  },
  {
   "cell_type": "markdown",
   "id": "500365fc",
   "metadata": {},
   "source": [
    "INFORME PRÁCTICA MACHINE LEARNING\n",
    "---"
   ]
  },
  {
   "cell_type": "markdown",
   "id": "28e0184c",
   "metadata": {},
   "source": [
    "El objetivo de este trabajo es realizar un modelo utilizando las técnicas de Machine Learning que sea capaz de predecir si, dados unos tipos de datos sobre el accidente de tráfico este sera mortal o no mortal. Hemos obtenido [`la base de datos de Canadá`](https://www.kaggle.com/tbsteal/canadian-car-accidents-19942014?select=drivingLegend.pdf). A continuación enumeramos los pasos realizados para abordar el problema como una compañía aseguradora. \n",
    "\n",
    "\n",
    "Hemos creado un [`diccionario de datos`](http://localhost:8888/notebooks/Desktop/CUNEF/Practica%20Machine%20Learning/project_template/notebooks/0.0.Diccionario_Variables.ipynb) donde comentamos y tenemos presentes todas las variables del dataset. Hacemos una breve explicación de cada una de ellas. \n",
    "\n",
    "Hemos trabajado en una [`primera exploración de los datos`](http://localhost:8888/notebooks/Desktop/CUNEF/Practica%20Machine%20Learning/project_template/notebooks/01.%20LOAD%20DATA%20y%20PRIMER%20EXPLORACI%C3%93N%20DE%20DATOS.%20.ipynb) que nos muestre la disposición inicial del dataset y los posibles problemas con los que nos vamos a encontrar (p.ej. valores nulos, duplicados, distribución variables, analisis variable objetivo...). DE este notebook hemos extraido dos conclusiones principales: \n",
    "\n",
    "  - Hay un desequilibrio en el dataset muy grande al que le tenemos que poner solución.\n",
    "  - Necesitamos agrupar el dataset por accidente de tráfico. \n",
    "\n",
    "Realizamos tres analisis EDA en el que pretendemos solventar las siguientes preguntas: \n",
    "\n",
    "1. [`Primer analisis EDA accidentes de tráfico: `](http://localhost:8888/notebooks/Desktop/CUNEF/Practica%20Machine%20Learning/project_template/notebooks/01.%20LOAD%20DATA%20y%20PRIMER%20EXPLORACI%C3%93N%20DE%20DATOS.%20.ipynb)Llegamos a las siguientes conclusiones:\n",
    "\n",
    "    - Los accidentes de tráfico han ido descendiendo de manera progresiva desde 1990 hasta 2014. \n",
    "    - Las superficies rectas y niveladas son el tipo de carreteras que mas accidentes sufren sin embargo, las carreteras mas mortales son las que contienen curvas y las pendientes y las cimas.\n",
    "    - El dia de la semana que mas accidentes ocurren son los viernes. \n",
    "    - El dia de la semana mas mortal es el Sabado. \n",
    "    - Las condiciones climaticas que incluyen visibilidad reducida y viento fuerte son las que influyen mas en la mortalidad. \n",
    "    - Las superficies inundadas o con arena/grava en el asfalta son las que mas influyen en la mortalidad. \n",
    "    - Las motos de nieve y los tractores son los vehiculos mas peligrosos. \n",
    "    - El coche ligero es el vehiculo que mas accidentes tienen. \n",
    "    - El año del vehiculo no parece ser muy trascendente a la hora de la mortalidad.\n",
    "    - El grupo de edad que mas accidentes sufre es el comprendido entre los 20 y los 30 años. \n",
    "    - Los hombres son mas propensos a tener accidentes de tráfico mortales. \n",
    "    - La posición en el vehiculo no afecta demasiado salvo que incumplas con las reglas de tráfico. \n",
    "    - La colisión frontal es la colisión mas mortal. \n",
    "    - La colisión por alcance es la mas propensa.\n",
    "    - No llevar medidas de seguridad influye en la mortalidad del accidente. \n",
    "    \n",
    "    \n",
    "2. [`Segundo análisis EDA, Hospitalizaciones: `](http://localhost:8888/notebooks/Desktop/CUNEF/Practica%20Machine%20Learning/project_template/notebooks/1.2.analisis_EDA_Tratamiento_Medico.ipynb)Llegamos a las siguientes conclusiones:\n",
    "\n",
    "    - No existe apenas diferencias entre la hospitalización de hombres y mujeres. \n",
    "    - El grupo de edad con mas hospitalizaciones es el comprendido entre los 20 y los 50 años. \n",
    "    - El vehiculo ligero es el que contribuye mas a las hospitalizaciones. \n",
    "    - Las colisiones frontales y laterales son las que mas influyen en las hospitalizaciones.\n",
    "    - La tendencia de las hospitalizaciones va en descenso acorde con los datos de accidentes de tráfico. \n",
    "    \n",
    "    \n",
    "3. [`Tercer análisis EDA accidentes de tráfico con dataset agrupado: `](http://localhost:8888/notebooks/Desktop/CUNEF/Practica%20Machine%20Learning/project_template/notebooks/1.3.analisis_EDA_Agrupado_Severidad.%20.ipynb)Llegamos a las siguientes conclusiones: \n",
    "\n",
    "    - El dataset guarda la misma proporción agrupado que sin agrupar. Obtenemos las mismas conclusiones que en el apartado 1.\n",
    "    \n",
    "Hemos realizado el preprocesado de datos, este contiene 4 notebooks: \n",
    "\n",
    "1. [`Limpieza del dataset`](http://localhost:8888/notebooks/Desktop/CUNEF/Practica%20Machine%20Learning/project_template/notebooks/2.0.1.%20%20Preprocesing.%20Limpieza%20Dataset.%20.ipynb): En el que hemos realizado los siguientes procedimientos: \n",
    "\n",
    "    - Eliminación de los duplicados.\n",
    "    - Eliminación de valores anómalos. (Vehiculos del 2015 que han tenido un accidente en el 2014).\n",
    "    - Agrupación de los valores por accidente.\n",
    "    \n",
    "2. [`Análisis de las variables: `](http://localhost:8888/notebooks/Desktop/CUNEF/Practica%20Machine%20Learning/project_template/notebooks/2.0.2.%20Preprocesing.%20Analisis%20de%20las%20variables.%20.ipynb) En el que hemos realizado los siguientes procedimientos: \n",
    "\n",
    "    - Analisis de la distribución.\n",
    "    - Analisis outliers variables continuas.\n",
    "    - Correlacción variables continuas.\n",
    "    - Eliminación de las variables correlaccionadas. Si procede.\n",
    "    - Analisis variable objetivo.\n",
    "\n",
    "3. [`Split y tratamiento de variables`](http://localhost:8888/notebooks/Desktop/CUNEF/Practica%20Machine%20Learning/project_template/notebooks/2.0.3.%20Preprocesing.%20SPLIT%2C%20NA%2C%20OUTLIER.%20.ipynb) En el que hemos realizado los siguientes procedimientos: \n",
    "\n",
    "    - División Train y Test.\n",
    "    - Igualar la muestra de Train.\n",
    "    - Tratamiento de variables numericas. Distribución continua.\n",
    "    - Tratamiento de variables categoricas. Distribución discreta.\n",
    "\n",
    "\n",
    "4. [`Selección de variables: `](http://localhost:8888/notebooks/Desktop/CUNEF/Practica%20Machine%20Learning/project_template/notebooks/2.0.4.%20Preprocesing.%20Seleccion%20de%20Variables..ipynb) Seleccionamos las variables empleando el método Lasso. \n",
    "\n",
    "\n",
    "\n",
    "Comentamos, explicamos y evaluamos el desempeño de los siguientes modelos para abordar el problema:  \n",
    "\n",
    "1. [`Árbol de decisión`](http://localhost:8888/notebooks/Desktop/CUNEF/Practica%20Machine%20Learning/project_template/notebooks/3.0.1.%20Modelos%20%20DTC.ipynb)\n",
    "\n",
    "2. [`Regresión Logistica`](http://localhost:8888/notebooks/Desktop/CUNEF/Practica%20Machine%20Learning/project_template/notebooks/3.0.2.%20Modelos.%20Linear%20Regression.%20.ipynb) \n",
    "\n",
    "3. [`Random Forest`](http://localhost:8888/notebooks/Desktop/CUNEF/Practica%20Machine%20Learning/project_template/notebooks/3.0.3.%20Modelos%20RANDOM%20FOREST.ipynb): Intentamos la mejora del algoritmo mediante optimización de parámetros. \n",
    "\n",
    "4. [`XGBOOST`](http://localhost:8888/notebooks/Desktop/CUNEF/Practica%20Machine%20Learning/project_template/notebooks/3.0.4.%20Modelos.%20XGBOOST.ipynb): Intentamos la mejora del algoritmo mediante optimización de parámetros. \n",
    "\n",
    "5. [`LIGHTGBM`](http://localhost:8888/notebooks/Desktop/CUNEF/Practica%20Machine%20Learning/project_template/notebooks/3.0.5.%20Modelos%20LightGBM.ipynb): Intentamos la mejora del algoritmo mediante optimización de parámetros. \n",
    "\n",
    "6. [`Support Vector Machine`](http://localhost:8888/notebooks/Desktop/CUNEF/Practica%20Machine%20Learning/project_template/notebooks/3.0.6.%20Modelos.%20SVM.ipynb)\n",
    "\n",
    "7. [`Voting classifier`](http://localhost:8888/notebooks/Desktop/CUNEF/Practica%20Machine%20Learning/project_template/notebooks/3.0.7.%20Voting%20Classifier%20.ipynb)\n",
    "\n",
    "\n",
    "Una vez evaluado el desempeño de los modelos, hemos llegado a la conclusión de que el modelo con mejor desempeño, tanto por tiempo como por score es el **LightGBM**. Obtenemos una matriz de confusión de 71% de aciertos en las predicciones de accidentes de tráfico con fallecidos, frente al 67% de las predicciones de accidentes de tráfico sin fallecidos. \n",
    "\n",
    "Desde el punto de vista de la compañía aseguradora, nosotros, en tantos porcentuales, vamos a activar un 5% mas de capital que del teóricamente predicho, dejando asi un margen de error del modelo de un 5%. \n",
    "\n",
    "Para comprender las predicciones del modelo hemos realizado un notebook acerca de la [`interpretabilidad`](http://localhost:8888/notebooks/Desktop/CUNEF/Practica%20Machine%20Learning/project_template/notebooks/3.0.8.%20Interpretabilidad.ipynb) del modelo, del que hemos obtenido dos conclusiones principales: \n",
    "\n",
    "   - La configuración del accidente `c_conf` lo que mas contribuye a decidir si un accidente ha sido mortal o no.\n",
    "\n",
    "   - El numero de personas implicadas en un accidente `c_nums` así como el numero de vehicuos `c_vehs` y el dia de la semana `c_wday` es lo que mas contribuye a que los valores del score sean cercanos a mortalidad.\n",
    "\n",
    "   - Existen otras variables que contribuyen a que haya mortalidad en un accidente como es la señalización de tráfico `c_traf` o la zona de la carretera donde se produce el accidente de tráfico `c_rcfg.`"
   ]
  }
 ],
 "metadata": {
  "kernelspec": {
   "display_name": "Python [conda env:practica_final]",
   "language": "python",
   "name": "conda-env-practica_final-py"
  },
  "language_info": {
   "codemirror_mode": {
    "name": "ipython",
    "version": 3
   },
   "file_extension": ".py",
   "mimetype": "text/x-python",
   "name": "python",
   "nbconvert_exporter": "python",
   "pygments_lexer": "ipython3",
   "version": "3.9.7"
  }
 },
 "nbformat": 4,
 "nbformat_minor": 5
}
