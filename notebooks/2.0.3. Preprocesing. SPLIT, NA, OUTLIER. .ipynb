{
 "cells": [
  {
   "attachments": {
    "Cuneflogo.png": {
     "image/png": "[encoded data removed]"
    }
   },
   "cell_type": "markdown",
   "id": "9cc4d936",
   "metadata": {},
   "source": [
    "![Cuneflogo.png](attachment:Cuneflogo.png)"
   ]
  },
  {
   "cell_type": "markdown",
   "id": "b66df565",
   "metadata": {},
   "source": [
    "Realizado por:\n",
    "\n",
    "***Sergio Ranz Casado***  \n",
    "***Marcos Medina Cogolludo***\n",
    "\n",
    "---"
   ]
  },
  {
   "cell_type": "markdown",
   "id": "a1bbce20",
   "metadata": {},
   "source": [
    "Una vez realizado el EDA, y teniendo en cuenta el notebook 0.1. donde realizamos una primera exploración rapida de datos. Realizamos el preprocesamiento de datos. En este sentido estos son los puntos que  trataremos:\n",
    "\n",
    "**2.0.1. Limpieza del dataset:**\n",
    "----\n",
    "1. Eliminación de los duplicados.  \n",
    "2. Eliminación de valores anómalos. (Vehiculos del 2015 que han tenido un accidente en el 2014). \n",
    "3. Agrupación de los valores por accidente. \n",
    " \n",
    "\n",
    "**2.0.2. Analisis de las variables:**\n",
    "---\n",
    "4. Analisis de la distribución. \n",
    "5. Analisis outliers variables continuas. \n",
    "6. Correlacción variables continuas. \n",
    "7. Eliminación de las variables correlaccionadas. Si procede.\n",
    "8. Analisis variable objetivo. \n",
    "\n",
    "**2.0.3. SPLIT:**\n",
    "----\n",
    "9.  División Train y Test.\n",
    "10. Igualar la muestra de Train. \n",
    "11. Tratamiento de variables numericas. Distribución continua. \n",
    "12. Tratamiento de variables categoricas. Distribución discreta. \n",
    "\n",
    "**2.0.4. SELECCIÓN DE VARIABLES:**\n",
    "----\n",
    "13. Selección de variables. "
   ]
  },
  {
   "cell_type": "markdown",
   "id": "a95aade8",
   "metadata": {},
   "source": [
    "---"
   ]
  },
  {
   "cell_type": "markdown",
   "id": "a96f601a",
   "metadata": {},
   "source": [
    "#### Importo librerias: "
   ]
  },
  {
   "cell_type": "code",
   "execution_count": 1,
   "id": "78932607",
   "metadata": {},
   "outputs": [],
   "source": [
    "import warnings\n",
    "warnings.filterwarnings('ignore')"
   ]
  },
  {
   "cell_type": "code",
   "execution_count": 2,
   "id": "e123d28f",
   "metadata": {},
   "outputs": [],
   "source": [
    "import pandas as pd\n",
    "import pyarrow.csv as pv\n",
    "import pyarrow.parquet as pq\n",
    "import seaborn as sns\n",
    "import numpy as np\n",
    "from matplotlib import pyplot as plt\n",
    "from sklearn import preprocessing\n",
    "import pandas as pd\n",
    "import pyarrow.csv as pv\n",
    "import pyarrow.parquet as pq\n",
    "import seaborn as sns\n",
    "from sklearn.preprocessing import StandardScaler\n",
    "from sklearn.model_selection import train_test_split\n",
    "from sklearn.preprocessing import LabelEncoder\n",
    "from sklearn.preprocessing import StandardScaler\n",
    "from sklearn.preprocessing import RobustScaler\n",
    "import category_encoders as ce\n",
    "from sklearn.utils import resample"
   ]
  },
  {
   "cell_type": "markdown",
   "id": "4d069fce",
   "metadata": {},
   "source": [
    "---"
   ]
  },
  {
   "cell_type": "markdown",
   "id": "a798f0d9",
   "metadata": {},
   "source": [
    "#### Importo el dataset guardado en el preprocesing 2.0.2."
   ]
  },
  {
   "cell_type": "code",
   "execution_count": 3,
   "id": "abd1e588",
   "metadata": {},
   "outputs": [
    {
     "data": {
      "text/html": [
       "<div>\n",
       "<style scoped>\n",
       "    .dataframe tbody tr th:only-of-type {\n",
       "        vertical-align: middle;\n",
       "    }\n",
       "\n",
       "    .dataframe tbody tr th {\n",
       "        vertical-align: top;\n",
       "    }\n",
       "\n",
       "    .dataframe thead th {\n",
       "        text-align: right;\n",
       "    }\n",
       "</style>\n",
       "<table border=\"1\" class=\"dataframe\">\n",
       "  <thead>\n",
       "    <tr style=\"text-align: right;\">\n",
       "      <th></th>\n",
       "      <th>c_year</th>\n",
       "      <th>c_mnth</th>\n",
       "      <th>c_wday</th>\n",
       "      <th>c_hour</th>\n",
       "      <th>c_sev</th>\n",
       "      <th>c_vehs</th>\n",
       "      <th>c_conf</th>\n",
       "      <th>c_rcfg</th>\n",
       "      <th>c_wthr</th>\n",
       "      <th>c_rsur</th>\n",
       "      <th>c_raln</th>\n",
       "      <th>c_traf</th>\n",
       "      <th>c_nums</th>\n",
       "    </tr>\n",
       "  </thead>\n",
       "  <tbody>\n",
       "    <tr>\n",
       "      <th>0</th>\n",
       "      <td>1999</td>\n",
       "      <td>01</td>\n",
       "      <td>1</td>\n",
       "      <td>00</td>\n",
       "      <td>2</td>\n",
       "      <td>01</td>\n",
       "      <td>01</td>\n",
       "      <td>01</td>\n",
       "      <td>1</td>\n",
       "      <td>4</td>\n",
       "      <td>1</td>\n",
       "      <td>18</td>\n",
       "      <td>1</td>\n",
       "    </tr>\n",
       "    <tr>\n",
       "      <th>1</th>\n",
       "      <td>1999</td>\n",
       "      <td>01</td>\n",
       "      <td>1</td>\n",
       "      <td>00</td>\n",
       "      <td>2</td>\n",
       "      <td>01</td>\n",
       "      <td>01</td>\n",
       "      <td>01</td>\n",
       "      <td>1</td>\n",
       "      <td>5</td>\n",
       "      <td>1</td>\n",
       "      <td>18</td>\n",
       "      <td>1</td>\n",
       "    </tr>\n",
       "    <tr>\n",
       "      <th>2</th>\n",
       "      <td>1999</td>\n",
       "      <td>01</td>\n",
       "      <td>1</td>\n",
       "      <td>00</td>\n",
       "      <td>2</td>\n",
       "      <td>01</td>\n",
       "      <td>01</td>\n",
       "      <td>01</td>\n",
       "      <td>2</td>\n",
       "      <td>1</td>\n",
       "      <td>1</td>\n",
       "      <td>18</td>\n",
       "      <td>1</td>\n",
       "    </tr>\n",
       "    <tr>\n",
       "      <th>3</th>\n",
       "      <td>1999</td>\n",
       "      <td>01</td>\n",
       "      <td>1</td>\n",
       "      <td>00</td>\n",
       "      <td>2</td>\n",
       "      <td>01</td>\n",
       "      <td>01</td>\n",
       "      <td>01</td>\n",
       "      <td>6</td>\n",
       "      <td>3</td>\n",
       "      <td>2</td>\n",
       "      <td>18</td>\n",
       "      <td>2</td>\n",
       "    </tr>\n",
       "    <tr>\n",
       "      <th>4</th>\n",
       "      <td>1999</td>\n",
       "      <td>01</td>\n",
       "      <td>1</td>\n",
       "      <td>00</td>\n",
       "      <td>2</td>\n",
       "      <td>01</td>\n",
       "      <td>01</td>\n",
       "      <td>UU</td>\n",
       "      <td>1</td>\n",
       "      <td>2</td>\n",
       "      <td>3</td>\n",
       "      <td>18</td>\n",
       "      <td>1</td>\n",
       "    </tr>\n",
       "    <tr>\n",
       "      <th>...</th>\n",
       "      <td>...</td>\n",
       "      <td>...</td>\n",
       "      <td>...</td>\n",
       "      <td>...</td>\n",
       "      <td>...</td>\n",
       "      <td>...</td>\n",
       "      <td>...</td>\n",
       "      <td>...</td>\n",
       "      <td>...</td>\n",
       "      <td>...</td>\n",
       "      <td>...</td>\n",
       "      <td>...</td>\n",
       "      <td>...</td>\n",
       "    </tr>\n",
       "    <tr>\n",
       "      <th>1850312</th>\n",
       "      <td>2014</td>\n",
       "      <td>12</td>\n",
       "      <td>7</td>\n",
       "      <td>UU</td>\n",
       "      <td>2</td>\n",
       "      <td>02</td>\n",
       "      <td>UU</td>\n",
       "      <td>02</td>\n",
       "      <td>U</td>\n",
       "      <td>U</td>\n",
       "      <td>1</td>\n",
       "      <td>03</td>\n",
       "      <td>2</td>\n",
       "    </tr>\n",
       "    <tr>\n",
       "      <th>1850313</th>\n",
       "      <td>2014</td>\n",
       "      <td>UU</td>\n",
       "      <td>U</td>\n",
       "      <td>14</td>\n",
       "      <td>2</td>\n",
       "      <td>01</td>\n",
       "      <td>02</td>\n",
       "      <td>01</td>\n",
       "      <td>1</td>\n",
       "      <td>5</td>\n",
       "      <td>4</td>\n",
       "      <td>18</td>\n",
       "      <td>1</td>\n",
       "    </tr>\n",
       "    <tr>\n",
       "      <th>1850314</th>\n",
       "      <td>2014</td>\n",
       "      <td>UU</td>\n",
       "      <td>U</td>\n",
       "      <td>22</td>\n",
       "      <td>1</td>\n",
       "      <td>01</td>\n",
       "      <td>06</td>\n",
       "      <td>01</td>\n",
       "      <td>2</td>\n",
       "      <td>4</td>\n",
       "      <td>Q</td>\n",
       "      <td>18</td>\n",
       "      <td>2</td>\n",
       "    </tr>\n",
       "    <tr>\n",
       "      <th>1850315</th>\n",
       "      <td>2014</td>\n",
       "      <td>UU</td>\n",
       "      <td>U</td>\n",
       "      <td>23</td>\n",
       "      <td>2</td>\n",
       "      <td>01</td>\n",
       "      <td>06</td>\n",
       "      <td>05</td>\n",
       "      <td>1</td>\n",
       "      <td>1</td>\n",
       "      <td>U</td>\n",
       "      <td>18</td>\n",
       "      <td>1</td>\n",
       "    </tr>\n",
       "    <tr>\n",
       "      <th>1850316</th>\n",
       "      <td>2014</td>\n",
       "      <td>UU</td>\n",
       "      <td>U</td>\n",
       "      <td>UU</td>\n",
       "      <td>2</td>\n",
       "      <td>UU</td>\n",
       "      <td>UU</td>\n",
       "      <td>01</td>\n",
       "      <td>U</td>\n",
       "      <td>U</td>\n",
       "      <td>U</td>\n",
       "      <td>UU</td>\n",
       "      <td>20</td>\n",
       "    </tr>\n",
       "  </tbody>\n",
       "</table>\n",
       "<p>1850317 rows × 13 columns</p>\n",
       "</div>"
      ],
      "text/plain": [
       "         c_year c_mnth c_wday c_hour  c_sev c_vehs c_conf c_rcfg c_wthr  \\\n",
       "0          1999     01      1     00      2     01     01     01      1   \n",
       "1          1999     01      1     00      2     01     01     01      1   \n",
       "2          1999     01      1     00      2     01     01     01      2   \n",
       "3          1999     01      1     00      2     01     01     01      6   \n",
       "4          1999     01      1     00      2     01     01     UU      1   \n",
       "...         ...    ...    ...    ...    ...    ...    ...    ...    ...   \n",
       "1850312    2014     12      7     UU      2     02     UU     02      U   \n",
       "1850313    2014     UU      U     14      2     01     02     01      1   \n",
       "1850314    2014     UU      U     22      1     01     06     01      2   \n",
       "1850315    2014     UU      U     23      2     01     06     05      1   \n",
       "1850316    2014     UU      U     UU      2     UU     UU     01      U   \n",
       "\n",
       "        c_rsur c_raln c_traf  c_nums  \n",
       "0            4      1     18       1  \n",
       "1            5      1     18       1  \n",
       "2            1      1     18       1  \n",
       "3            3      2     18       2  \n",
       "4            2      3     18       1  \n",
       "...        ...    ...    ...     ...  \n",
       "1850312      U      1     03       2  \n",
       "1850313      5      4     18       1  \n",
       "1850314      4      Q     18       2  \n",
       "1850315      1      U     18       1  \n",
       "1850316      U      U     UU      20  \n",
       "\n",
       "[1850317 rows x 13 columns]"
      ]
     },
     "execution_count": 3,
     "metadata": {},
     "output_type": "execute_result"
    }
   ],
   "source": [
    "df_acc = pd.read_parquet('../data/df_acc_1.parquet')\n",
    "df_acc.columns = df_acc.columns.map(lambda x: x[:].lower())\n",
    "df_acc"
   ]
  },
  {
   "cell_type": "markdown",
   "id": "2c188965",
   "metadata": {},
   "source": [
    "---"
   ]
  },
  {
   "cell_type": "markdown",
   "id": "514d6e62",
   "metadata": {},
   "source": [
    "#### Tratamiento de la variable objetivo"
   ]
  },
  {
   "cell_type": "markdown",
   "id": "3c22134d",
   "metadata": {},
   "source": [
    "Hacemos un label encoder de c_sev, lo que no afectará en nada, simplemente los 1 pasarán a ser 0 y los 2 pasarán a ser 1. \n",
    "\n",
    "A partir de ahora las variables de c_sev serán: \n",
    "\n",
    "- 0: Accidente con mortalidad.\n",
    "- 1: Accidente sin mortalidad. "
   ]
  },
  {
   "cell_type": "code",
   "execution_count": 4,
   "id": "e4578c73",
   "metadata": {},
   "outputs": [],
   "source": [
    "df_acc[\"c_sev\"] = preprocessing.LabelEncoder().fit_transform(df_acc[[\"c_sev\"]])"
   ]
  },
  {
   "cell_type": "markdown",
   "id": "40928d4b",
   "metadata": {},
   "source": [
    "#### SPLIT (train y test)"
   ]
  },
  {
   "cell_type": "markdown",
   "id": "0f71dc55",
   "metadata": {},
   "source": [
    "Realizaremos el Split con la estratificación. Esta tecnica la emplearemos en la división del train y test, pues split tiene este parametro dentro de su división. Tendremos que tener en cuenta lo que implica esto, y es que reducimos el numero de muestras de la clase mayoritaria (no mortalidad), por lo que podria suponer una perdida de información."
   ]
  },
  {
   "cell_type": "code",
   "execution_count": 5,
   "id": "7b2ca679",
   "metadata": {},
   "outputs": [],
   "source": [
    "X = df_acc.drop(\"c_sev\", axis=1)\n",
    "Y = df_acc[\"c_sev\"]"
   ]
  },
  {
   "cell_type": "markdown",
   "id": "cc372d4e",
   "metadata": {},
   "source": [
    "Hacemos el split, como semilla introducimos 1422."
   ]
  },
  {
   "cell_type": "code",
   "execution_count": 6,
   "id": "af212f92",
   "metadata": {},
   "outputs": [],
   "source": [
    "x_train, x_test, y_train, y_test = train_test_split(X, Y, stratify=Y, test_size=0.25, random_state=1422)"
   ]
  },
  {
   "cell_type": "markdown",
   "id": "2748e8f7",
   "metadata": {},
   "source": [
    "Asignamos el x_train y x_test concatenado a y_train e y_test respectivamente, a otras variables para su transformación:"
   ]
  },
  {
   "cell_type": "code",
   "execution_count": 7,
   "id": "d6d0120e",
   "metadata": {},
   "outputs": [],
   "source": [
    "x_train_t = pd.concat([x_train, y_train], axis=1)\n",
    "x_test_t = pd.concat([x_test, y_test], axis=1)"
   ]
  },
  {
   "cell_type": "markdown",
   "id": "88fcd184",
   "metadata": {},
   "source": [
    "---"
   ]
  },
  {
   "cell_type": "markdown",
   "id": "692c1bca",
   "metadata": {},
   "source": [
    "#### Igualar las muestras"
   ]
  },
  {
   "cell_type": "markdown",
   "id": "b954ac92",
   "metadata": {},
   "source": [
    "Existen diferentes opciones de cara a igualar el dataset, tras leernos diferentes enlaces, hemos pensado en probar las siguientes soluciones: \n",
    "\n",
    "- Probar los modelo sin realizar ningún ajuste en la muestra. Aplicaremos la compensación en cada uno de los modelos implementados con el parametro \"class_weight='balenced'\". Tendremos que tener en cuenta que las metricas serán diferentes. Como queremos probabilidades y tenemos el dataset desajustado, tendremos que usar el BRIER SCORE. Si queremos la clasificación por etiquetas, tendremos que tener en cuenta que a la hora de predecir, para nosotros son mas costosas las muertes no predecidas que las no muertes no predecidas, por lo que tendremos que usar un F2 Score. \n",
    "\n",
    "\n",
    "- Usamos un downsampling aleatorio que equilibra el dataset de muertes con no muertes en un 60% a 40%. Al ser un muestreo aleatorio conservamos la distribución del dataset.  \n",
    "\n",
    "\n",
    "- Undersampling con Tomek-Links. Esta tecnica supone tambien una reducción de la muestra de la clase mayoritaria, seguimos perdiendo información, pero lo bueno de esta técnica es que se centra en coger los datos de las NO MUERTES mas cercanos a los datos de las MUERTES, por lo que la frontera queda mucho mejor definida que en la estratificación. Lo que puede ser de gran ayuda sobre todo el problemas de clasificación binarios. \n",
    "\n",
    "\n",
    "- SMOTE: Tecnicas de oversampling, que al contrario que las dos anteriores se centra en la clase minoritaria (muertes). En este sentido crea datos muy parecidos a la muestra de mortalidad hasta equilibrarlos con los de la clase mayoritaria (no muertes). El problema de esta tecnica es que crea información falsa. Lo bueno, que igual te tomek-links, crea registros muy cercanos a la clase minoritaria lo que permite hacer una frontera entre las dos clases de datos que puede facilitar la predicción sobre todo en problemas binarios como el que tenemos. \n",
    "\n",
    "\n",
    "- Por ultimo podemos probar una combinación de TOMEK_LINKS con SMOTE. "
   ]
  },
  {
   "cell_type": "markdown",
   "id": "962a7c84",
   "metadata": {},
   "source": [
    "**Actualización** Probamos la estratificación en el undersampling aleatorio. "
   ]
  },
  {
   "cell_type": "code",
   "execution_count": 8,
   "id": "cfa6ea07",
   "metadata": {},
   "outputs": [],
   "source": [
    "muestra_minoritaria = x_train_t[(x_train_t.c_sev == 0)]\n",
    "muestra_mayoritaria = x_train_t[(x_train_t.c_sev == 1)]"
   ]
  },
  {
   "cell_type": "markdown",
   "id": "31d5bd9f",
   "metadata": {},
   "source": [
    "Queremos una proporción de 40% muertes y 60% no muertes, solo vamos a reducir la muestra mayoritaria, para calcular al numero de muestras que la vamos a reducir, vamos a usar una regla de 3. "
   ]
  },
  {
   "cell_type": "code",
   "execution_count": 9,
   "id": "6a1c511c",
   "metadata": {},
   "outputs": [],
   "source": [
    "muestra_mayoritaria_reducida = resample(muestra_mayoritaria, replace=True, n_samples=40320, random_state=1234)"
   ]
  },
  {
   "cell_type": "code",
   "execution_count": 10,
   "id": "a5de943d",
   "metadata": {},
   "outputs": [],
   "source": [
    "x_train_t = pd.concat([muestra_mayoritaria_reducida, muestra_minoritaria]).reset_index().drop('index', axis=1)"
   ]
  },
  {
   "cell_type": "code",
   "execution_count": 11,
   "id": "49c75d58",
   "metadata": {},
   "outputs": [],
   "source": [
    "y_train = x_train_t['c_sev']"
   ]
  },
  {
   "cell_type": "markdown",
   "id": "3bbffff8",
   "metadata": {},
   "source": [
    "---"
   ]
  },
  {
   "cell_type": "markdown",
   "id": "fb646078",
   "metadata": {},
   "source": [
    "#### Tratamiento de variables numericas."
   ]
  },
  {
   "cell_type": "markdown",
   "id": "894eed44",
   "metadata": {},
   "source": [
    "Tal y como hemos comentado en el apartado 2.0.2 las variables numericas de este dataset son: c_nums, c_vehs y c_year. \n",
    "\n",
    "- La variable **C_year** no tiene ni na y sigue una distribución uniforme. Hemos decidido no aplicar ningun tipo de tratamiento a esta variable. \n",
    "\n",
    "\n",
    "- La variable **C_nums** sigue una distribución de Poisson marcada por muchos valores atipicos. Sin embargo estos valores atipicos no suponen una gran representatividad de las muertes, emplearemos un RobustScaler. \n",
    "\n",
    "\n",
    "- La variable **C_vehs** contiene numeros que son NA y '', los sustituiremos por un outlier en este caso **99**. La distribución que sigue esta variable es una Poisson con muchos valores atipicos por lo que tambien emplearemos un RobustScaler. \n",
    "\n",
    "\n",
    "El [`RobustScaler`](https://scikit-learn.org/stable/modules/generated/sklearn.preprocessing.RobustScaler.html#sklearn.preprocessing.RobustScaler) se caracteriza por transformar los datos empleando estadísticos robustos a los valores atípicos (*outliers*). La transformación se realiza suprimiendo la mediana y escalando los datos de acuerdo con su rango intercuartílico."
   ]
  },
  {
   "cell_type": "markdown",
   "id": "90e1b14c",
   "metadata": {},
   "source": [
    "**C_NUMS:**"
   ]
  },
  {
   "cell_type": "code",
   "execution_count": 12,
   "id": "b699b48b",
   "metadata": {},
   "outputs": [],
   "source": [
    "x_train_t[\"c_nums\"] = preprocessing.RobustScaler().fit_transform(x_train_t[[\"c_nums\"]])\n",
    "x_test_t[\"c_nums\"] = preprocessing.RobustScaler().fit_transform(x_test_t[[\"c_nums\"]])"
   ]
  },
  {
   "cell_type": "markdown",
   "id": "526d4e36",
   "metadata": {},
   "source": [
    "**C_VEHS**: "
   ]
  },
  {
   "cell_type": "code",
   "execution_count": 13,
   "id": "445ac050",
   "metadata": {},
   "outputs": [],
   "source": [
    "x_train_t[\"c_vehs\"] = x_train_t[\"c_vehs\"].replace(\"UU\", 99)\n",
    "x_train_t[\"c_vehs\"] = x_train_t[\"c_vehs\"].replace(\"\", 99)\n",
    "x_test_t[\"c_vehs\"] = x_test_t[\"c_vehs\"].replace(\"UU\", 99)\n",
    "x_test_t[\"c_vehs\"] = x_test_t[\"c_vehs\"].replace(\"\", 99)"
   ]
  },
  {
   "cell_type": "code",
   "execution_count": 14,
   "id": "b9d29106",
   "metadata": {},
   "outputs": [],
   "source": [
    "x_train_t[\"c_vehs\"] = preprocessing.RobustScaler().fit_transform(x_train_t[[\"c_vehs\"]])\n",
    "x_test_t[\"c_vehs\"] = preprocessing.RobustScaler().fit_transform(x_test_t[[\"c_vehs\"]])"
   ]
  },
  {
   "cell_type": "markdown",
   "id": "1b08c7a1",
   "metadata": {},
   "source": [
    "-----"
   ]
  },
  {
   "cell_type": "markdown",
   "id": "a63192aa",
   "metadata": {},
   "source": [
    "#### Tratamiento variables categoricas."
   ]
  },
  {
   "cell_type": "markdown",
   "id": "5d5c52e9",
   "metadata": {},
   "source": [
    "Las variables categoricas de este dataset son las siguientes: `c_mnth`(numero de meses), `c_hour`(hora del dia), `c_wday`(dia de la semana), `c_conf`(configuración del accidente), `c_rcfg`(configuración calzada), `c_wthr`(configuración tiempo), `c_rsur`(superficie de la carretera), `c_raln`(alineación carretera), `c_traf`(señalización de la carretera). \n",
    "\n",
    "Queremos dividir estas variables en dos grandes grupos para diferenciar su tratamiento: \n",
    "\n",
    "- Primer grupo (Variables `c_mnth, c_wday y c_hour`): , son variables muy parecidas a numericas, que nosotros consideramos categoricas. En este sentido y viendo su distribución en el preprocesamiento 2.0.2. Hemos decidido cambiar los NA por el valor de la mediana para las variables c_mnth y c_wday. Mientras que para c_hour hemos decidido añadir una categoria mas llamada '24'. (Falta comentar la incidencia de los NA de estas variables). Como son variables ya codificadas y ordenadas no vamos a hacer label encoder ya que no tendria ningun sentido.\n",
    "\n",
    "\n",
    "- Segundo grupo (Resto variables): Son variables que, aunque tienen numeros, estos no están ordenados, por lo que hemos decidido introducir un **Weight of Evidence Encoding** Este metodo se emplea para variables objetivo binarias y lo que hace es medir la distinción de cada categoría de la variable con respecto a la variable objetivo. "
   ]
  },
  {
   "cell_type": "markdown",
   "id": "194920d2",
   "metadata": {},
   "source": [
    "**Primer Grupo:**"
   ]
  },
  {
   "cell_type": "code",
   "execution_count": 15,
   "id": "385589bd",
   "metadata": {},
   "outputs": [],
   "source": [
    "'''c_hour Train: '''\n",
    "x_train_t[\"c_hour\"] = x_train_t[\"c_hour\"].replace(\"UU\", 24)\n",
    "x_train_t[\"c_hour\"] = pd.to_numeric(x_train_t[\"c_hour\"])\n",
    "'''c_hour Test: '''\n",
    "x_test_t[\"c_hour\"] = x_test_t[\"c_hour\"].replace(\"UU\", 24)\n",
    "x_test_t[\"c_hour\"] = pd.to_numeric(x_test_t[\"c_hour\"])"
   ]
  },
  {
   "cell_type": "code",
   "execution_count": 16,
   "id": "2c337f10",
   "metadata": {},
   "outputs": [],
   "source": [
    "'''c_wday Train: '''\n",
    "x_train_t[\"c_wday\"] = x_train_t[\"c_wday\"].replace(\"U\", np.nan)\n",
    "x_train_t[\"c_wday\"] = pd.to_numeric(x_train_t[\"c_wday\"])\n",
    "x_train_t[\"c_wday\"] = x_train_t[\"c_wday\"].replace(np.nan, np.nanmedian(x_train_t[\"c_wday\"])).astype(int)\n",
    "\n",
    "'''c_wday Test: '''\n",
    "x_test_t[\"c_wday\"] = x_test_t[\"c_wday\"].replace(\"U\", np.nan)\n",
    "x_test_t[\"c_wday\"] = pd.to_numeric(x_test_t[\"c_wday\"])\n",
    "x_test_t[\"c_wday\"] = x_test_t[\"c_wday\"].replace(np.nan, np.nanmedian(x_test_t[\"c_wday\"])).astype(int)"
   ]
  },
  {
   "cell_type": "code",
   "execution_count": 17,
   "id": "3ae86544",
   "metadata": {},
   "outputs": [],
   "source": [
    "'''c_mnth Train: '''\n",
    "x_train_t[\"c_mnth\"] = x_train_t[\"c_mnth\"].replace(\"UU\", np.nan)\n",
    "x_train_t[\"c_mnth\"] = pd.to_numeric(x_train_t[\"c_mnth\"])\n",
    "x_train_t[\"c_mnth\"] = x_train_t[\"c_mnth\"].replace(np.nan, np.nanmedian(x_train_t[\"c_mnth\"])).astype(int)\n",
    "\n",
    "'''c_mnth Test: '''\n",
    "x_test_t[\"c_mnth\"] = x_test_t[\"c_mnth\"].replace(\"UU\", np.nan)\n",
    "x_test_t[\"c_mnth\"] = pd.to_numeric(x_test_t[\"c_mnth\"])\n",
    "x_test_t[\"c_mnth\"] = x_test_t[\"c_mnth\"].replace(np.nan, np.nanmedian(x_test_t[\"c_mnth\"])).astype(int)"
   ]
  },
  {
   "cell_type": "markdown",
   "id": "20cc6f94",
   "metadata": {},
   "source": [
    "**Segundo Grupo:**"
   ]
  },
  {
   "cell_type": "code",
   "execution_count": 18,
   "id": "36bfcd47",
   "metadata": {},
   "outputs": [],
   "source": [
    "segundo_grupo = x_train_t[[\"c_conf\", \"c_rcfg\", \"c_wthr\", \"c_rsur\", \"c_raln\", \"c_traf\"]].columns\n",
    "woe = ce.WOEEncoder(cols=segundo_grupo)\n",
    "x_train_t[segundo_grupo] = woe.fit_transform(x_train_t[segundo_grupo],y_train)\n",
    "x_test_t[segundo_grupo] = woe.fit_transform(x_test_t[segundo_grupo],y_test)"
   ]
  },
  {
   "cell_type": "markdown",
   "id": "d4e350ff",
   "metadata": {},
   "source": [
    "---"
   ]
  },
  {
   "cell_type": "markdown",
   "id": "1996e6a3",
   "metadata": {},
   "source": [
    "#### Guardamos "
   ]
  },
  {
   "cell_type": "code",
   "execution_count": 19,
   "id": "c0babeaa",
   "metadata": {},
   "outputs": [],
   "source": [
    "x_train_t.to_parquet(\"../data/train1.parquet\")\n",
    "x_test_t.to_parquet(\"../data/test1.parquet\")"
   ]
  },
  {
   "cell_type": "markdown",
   "id": "7ab43d8e",
   "metadata": {},
   "source": [
    "---"
   ]
  },
  {
   "cell_type": "markdown",
   "id": "6b4f3291",
   "metadata": {},
   "source": [
    "#### ENLACES DE INTERÉS: "
   ]
  },
  {
   "cell_type": "markdown",
   "id": "87e24346",
   "metadata": {},
   "source": [
    "[`MUESTREO EN PYTHON`](https://www.analyticslane.com/2020/06/15/muestreo-en-python/)\n",
    "\n",
    "[`SMOTE for Imbalanced Classification with Python`](https://machinelearningmastery.com/smote-oversampling-for-imbalanced-classification/)\n",
    "\n",
    "[`How to Combine Oversampling and Undersampling for Imbalanced Classification`](https://machinelearningmastery.com/combine-oversampling-and-undersampling-for-imbalanced-classification/)\n",
    "\n",
    "[`Random Oversampling and Undersampling for Imbalanced Classification`](https://machinelearningmastery.com/random-oversampling-and-undersampling-for-imbalanced-classification/)\n",
    "\n",
    "[`TOMEK LINKS`](https://imbalanced-learn.org/dev/references/generated/imblearn.under_sampling.TomekLinks.html)\n",
    "\n",
    "[`10 Techniques to deal with Imbalanced Classes in Machine Learning`](https://www.analyticsvidhya.com/blog/2020/07/10-techniques-to-deal-with-class-imbalance-in-machine-learning/)\n",
    "\n",
    "[`How to Effortlessly Handle Class Imbalance with Python and SMOTE`](https://towardsdatascience.com/how-to-effortlessly-handle-class-imbalance-with-python-and-smote-9b715ca8e5a7)\n",
    "\n",
    "[`Weight of Evidence Encoding`](https://www.listendata.com/2015/03/weight-of-evidence-woe-and-information.html)\n",
    "\n",
    "[`Clasificación con datos desbalanceados`](https://www.aprendemachinelearning.com/clasificacion-con-datos-desbalanceados/)"
   ]
  },
  {
   "cell_type": "markdown",
   "id": "93a38598",
   "metadata": {},
   "source": [
    "---"
   ]
  }
 ],
 "metadata": {
  "kernelspec": {
   "display_name": "Python [conda env:practica_final]",
   "language": "python",
   "name": "conda-env-practica_final-py"
  },
  "language_info": {
   "codemirror_mode": {
    "name": "ipython",
    "version": 3
   },
   "file_extension": ".py",
   "mimetype": "text/x-python",
   "name": "python",
   "nbconvert_exporter": "python",
   "pygments_lexer": "ipython3",
   "version": "3.9.7"
  }
 },
 "nbformat": 4,
 "nbformat_minor": 5
}
